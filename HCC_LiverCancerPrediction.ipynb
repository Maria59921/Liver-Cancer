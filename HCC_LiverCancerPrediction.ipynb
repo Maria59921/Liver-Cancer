{
  "nbformat": 4,
  "nbformat_minor": 0,
  "metadata": {
    "colab": {
      "provenance": [],
      "toc_visible": true
    },
    "kernelspec": {
      "name": "python3",
      "display_name": "Python 3"
    },
    "language_info": {
      "name": "python"
    }
  },
  "cells": [
    {
      "cell_type": "code",
      "execution_count": 3,
      "metadata": {
        "id": "WcNxGLTWK4zD"
      },
      "outputs": [],
      "source": [
        "import numpy as np\n",
        "import pandas as pd\n",
        "import matplotlib.pyplot as plt\n",
        "from sklearn.model_selection import RepeatedStratifiedKFold\n",
        "from sklearn.model_selection import cross_val_score"
      ]
    },
    {
      "cell_type": "code",
      "source": [
        "hcc = pd.read_excel('/content/hcc-data-complete-balanced.xlsx')\n",
        "hcc.head()"
      ],
      "metadata": {
        "colab": {
          "base_uri": "https://localhost:8080/",
          "height": 299
        },
        "id": "UOZAWoydT_dx",
        "outputId": "21893694-1c3d-4712-d022-9b5abbb0dee5"
      },
      "execution_count": 4,
      "outputs": [
        {
          "output_type": "execute_result",
          "data": {
            "text/plain": [
              "   Gender  Symptoms  Alcohol  HBsAg  HBeAg  HBcAb  HCVAb  Cirrhosis  Endemic  \\\n",
              "0       1         0        1      0      0      0      0          1        0   \n",
              "1       0         0        0      0      0      0      1          1        0   \n",
              "2       1         0        1      1      0      1      0          1        0   \n",
              "3       1         1        1      0      0      0      0          1        0   \n",
              "4       1         1        1      1      0      1      0          1        0   \n",
              "\n",
              "   Smoking  ...  ALP   TP  Creatinine  Nodule  Major_Dim  Dir_Bil  Iron  Sat  \\\n",
              "0        1  ...  150  7,1         0,7       1        3,5      0,5  52,5   37   \n",
              "1        1  ...  120    7        0,58       1        1,8     0,85    32   10   \n",
              "2        1  ...  109    7         2,1       5         13      0,1    28    6   \n",
              "3        1  ...  174  8,1        1,11       2       15,7      0,2   131   78   \n",
              "4        1  ...  109  6,9         1,8       1          9      0,1    59   15   \n",
              "\n",
              "   Ferritin  Class  \n",
              "0       856      1  \n",
              "1        18      1  \n",
              "2        16      1  \n",
              "3      1316      0  \n",
              "4        22      1  \n",
              "\n",
              "[5 rows x 50 columns]"
            ],
            "text/html": [
              "\n",
              "  <div id=\"df-11314ebe-0376-43df-87fc-85bf3219f053\">\n",
              "    <div class=\"colab-df-container\">\n",
              "      <div>\n",
              "<style scoped>\n",
              "    .dataframe tbody tr th:only-of-type {\n",
              "        vertical-align: middle;\n",
              "    }\n",
              "\n",
              "    .dataframe tbody tr th {\n",
              "        vertical-align: top;\n",
              "    }\n",
              "\n",
              "    .dataframe thead th {\n",
              "        text-align: right;\n",
              "    }\n",
              "</style>\n",
              "<table border=\"1\" class=\"dataframe\">\n",
              "  <thead>\n",
              "    <tr style=\"text-align: right;\">\n",
              "      <th></th>\n",
              "      <th>Gender</th>\n",
              "      <th>Symptoms</th>\n",
              "      <th>Alcohol</th>\n",
              "      <th>HBsAg</th>\n",
              "      <th>HBeAg</th>\n",
              "      <th>HBcAb</th>\n",
              "      <th>HCVAb</th>\n",
              "      <th>Cirrhosis</th>\n",
              "      <th>Endemic</th>\n",
              "      <th>Smoking</th>\n",
              "      <th>...</th>\n",
              "      <th>ALP</th>\n",
              "      <th>TP</th>\n",
              "      <th>Creatinine</th>\n",
              "      <th>Nodule</th>\n",
              "      <th>Major_Dim</th>\n",
              "      <th>Dir_Bil</th>\n",
              "      <th>Iron</th>\n",
              "      <th>Sat</th>\n",
              "      <th>Ferritin</th>\n",
              "      <th>Class</th>\n",
              "    </tr>\n",
              "  </thead>\n",
              "  <tbody>\n",
              "    <tr>\n",
              "      <th>0</th>\n",
              "      <td>1</td>\n",
              "      <td>0</td>\n",
              "      <td>1</td>\n",
              "      <td>0</td>\n",
              "      <td>0</td>\n",
              "      <td>0</td>\n",
              "      <td>0</td>\n",
              "      <td>1</td>\n",
              "      <td>0</td>\n",
              "      <td>1</td>\n",
              "      <td>...</td>\n",
              "      <td>150</td>\n",
              "      <td>7,1</td>\n",
              "      <td>0,7</td>\n",
              "      <td>1</td>\n",
              "      <td>3,5</td>\n",
              "      <td>0,5</td>\n",
              "      <td>52,5</td>\n",
              "      <td>37</td>\n",
              "      <td>856</td>\n",
              "      <td>1</td>\n",
              "    </tr>\n",
              "    <tr>\n",
              "      <th>1</th>\n",
              "      <td>0</td>\n",
              "      <td>0</td>\n",
              "      <td>0</td>\n",
              "      <td>0</td>\n",
              "      <td>0</td>\n",
              "      <td>0</td>\n",
              "      <td>1</td>\n",
              "      <td>1</td>\n",
              "      <td>0</td>\n",
              "      <td>1</td>\n",
              "      <td>...</td>\n",
              "      <td>120</td>\n",
              "      <td>7</td>\n",
              "      <td>0,58</td>\n",
              "      <td>1</td>\n",
              "      <td>1,8</td>\n",
              "      <td>0,85</td>\n",
              "      <td>32</td>\n",
              "      <td>10</td>\n",
              "      <td>18</td>\n",
              "      <td>1</td>\n",
              "    </tr>\n",
              "    <tr>\n",
              "      <th>2</th>\n",
              "      <td>1</td>\n",
              "      <td>0</td>\n",
              "      <td>1</td>\n",
              "      <td>1</td>\n",
              "      <td>0</td>\n",
              "      <td>1</td>\n",
              "      <td>0</td>\n",
              "      <td>1</td>\n",
              "      <td>0</td>\n",
              "      <td>1</td>\n",
              "      <td>...</td>\n",
              "      <td>109</td>\n",
              "      <td>7</td>\n",
              "      <td>2,1</td>\n",
              "      <td>5</td>\n",
              "      <td>13</td>\n",
              "      <td>0,1</td>\n",
              "      <td>28</td>\n",
              "      <td>6</td>\n",
              "      <td>16</td>\n",
              "      <td>1</td>\n",
              "    </tr>\n",
              "    <tr>\n",
              "      <th>3</th>\n",
              "      <td>1</td>\n",
              "      <td>1</td>\n",
              "      <td>1</td>\n",
              "      <td>0</td>\n",
              "      <td>0</td>\n",
              "      <td>0</td>\n",
              "      <td>0</td>\n",
              "      <td>1</td>\n",
              "      <td>0</td>\n",
              "      <td>1</td>\n",
              "      <td>...</td>\n",
              "      <td>174</td>\n",
              "      <td>8,1</td>\n",
              "      <td>1,11</td>\n",
              "      <td>2</td>\n",
              "      <td>15,7</td>\n",
              "      <td>0,2</td>\n",
              "      <td>131</td>\n",
              "      <td>78</td>\n",
              "      <td>1316</td>\n",
              "      <td>0</td>\n",
              "    </tr>\n",
              "    <tr>\n",
              "      <th>4</th>\n",
              "      <td>1</td>\n",
              "      <td>1</td>\n",
              "      <td>1</td>\n",
              "      <td>1</td>\n",
              "      <td>0</td>\n",
              "      <td>1</td>\n",
              "      <td>0</td>\n",
              "      <td>1</td>\n",
              "      <td>0</td>\n",
              "      <td>1</td>\n",
              "      <td>...</td>\n",
              "      <td>109</td>\n",
              "      <td>6,9</td>\n",
              "      <td>1,8</td>\n",
              "      <td>1</td>\n",
              "      <td>9</td>\n",
              "      <td>0,1</td>\n",
              "      <td>59</td>\n",
              "      <td>15</td>\n",
              "      <td>22</td>\n",
              "      <td>1</td>\n",
              "    </tr>\n",
              "  </tbody>\n",
              "</table>\n",
              "<p>5 rows × 50 columns</p>\n",
              "</div>\n",
              "      <button class=\"colab-df-convert\" onclick=\"convertToInteractive('df-11314ebe-0376-43df-87fc-85bf3219f053')\"\n",
              "              title=\"Convert this dataframe to an interactive table.\"\n",
              "              style=\"display:none;\">\n",
              "        \n",
              "  <svg xmlns=\"http://www.w3.org/2000/svg\" height=\"24px\"viewBox=\"0 0 24 24\"\n",
              "       width=\"24px\">\n",
              "    <path d=\"M0 0h24v24H0V0z\" fill=\"none\"/>\n",
              "    <path d=\"M18.56 5.44l.94 2.06.94-2.06 2.06-.94-2.06-.94-.94-2.06-.94 2.06-2.06.94zm-11 1L8.5 8.5l.94-2.06 2.06-.94-2.06-.94L8.5 2.5l-.94 2.06-2.06.94zm10 10l.94 2.06.94-2.06 2.06-.94-2.06-.94-.94-2.06-.94 2.06-2.06.94z\"/><path d=\"M17.41 7.96l-1.37-1.37c-.4-.4-.92-.59-1.43-.59-.52 0-1.04.2-1.43.59L10.3 9.45l-7.72 7.72c-.78.78-.78 2.05 0 2.83L4 21.41c.39.39.9.59 1.41.59.51 0 1.02-.2 1.41-.59l7.78-7.78 2.81-2.81c.8-.78.8-2.07 0-2.86zM5.41 20L4 18.59l7.72-7.72 1.47 1.35L5.41 20z\"/>\n",
              "  </svg>\n",
              "      </button>\n",
              "      \n",
              "  <style>\n",
              "    .colab-df-container {\n",
              "      display:flex;\n",
              "      flex-wrap:wrap;\n",
              "      gap: 12px;\n",
              "    }\n",
              "\n",
              "    .colab-df-convert {\n",
              "      background-color: #E8F0FE;\n",
              "      border: none;\n",
              "      border-radius: 50%;\n",
              "      cursor: pointer;\n",
              "      display: none;\n",
              "      fill: #1967D2;\n",
              "      height: 32px;\n",
              "      padding: 0 0 0 0;\n",
              "      width: 32px;\n",
              "    }\n",
              "\n",
              "    .colab-df-convert:hover {\n",
              "      background-color: #E2EBFA;\n",
              "      box-shadow: 0px 1px 2px rgba(60, 64, 67, 0.3), 0px 1px 3px 1px rgba(60, 64, 67, 0.15);\n",
              "      fill: #174EA6;\n",
              "    }\n",
              "\n",
              "    [theme=dark] .colab-df-convert {\n",
              "      background-color: #3B4455;\n",
              "      fill: #D2E3FC;\n",
              "    }\n",
              "\n",
              "    [theme=dark] .colab-df-convert:hover {\n",
              "      background-color: #434B5C;\n",
              "      box-shadow: 0px 1px 3px 1px rgba(0, 0, 0, 0.15);\n",
              "      filter: drop-shadow(0px 1px 2px rgba(0, 0, 0, 0.3));\n",
              "      fill: #FFFFFF;\n",
              "    }\n",
              "  </style>\n",
              "\n",
              "      <script>\n",
              "        const buttonEl =\n",
              "          document.querySelector('#df-11314ebe-0376-43df-87fc-85bf3219f053 button.colab-df-convert');\n",
              "        buttonEl.style.display =\n",
              "          google.colab.kernel.accessAllowed ? 'block' : 'none';\n",
              "\n",
              "        async function convertToInteractive(key) {\n",
              "          const element = document.querySelector('#df-11314ebe-0376-43df-87fc-85bf3219f053');\n",
              "          const dataTable =\n",
              "            await google.colab.kernel.invokeFunction('convertToInteractive',\n",
              "                                                     [key], {});\n",
              "          if (!dataTable) return;\n",
              "\n",
              "          const docLinkHtml = 'Like what you see? Visit the ' +\n",
              "            '<a target=\"_blank\" href=https://colab.research.google.com/notebooks/data_table.ipynb>data table notebook</a>'\n",
              "            + ' to learn more about interactive tables.';\n",
              "          element.innerHTML = '';\n",
              "          dataTable['output_type'] = 'display_data';\n",
              "          await google.colab.output.renderOutput(dataTable, element);\n",
              "          const docLink = document.createElement('div');\n",
              "          docLink.innerHTML = docLinkHtml;\n",
              "          element.appendChild(docLink);\n",
              "        }\n",
              "      </script>\n",
              "    </div>\n",
              "  </div>\n",
              "  "
            ]
          },
          "metadata": {},
          "execution_count": 4
        }
      ]
    },
    {
      "cell_type": "markdown",
      "source": [
        "\n",
        "Data Preprocessing"
      ],
      "metadata": {
        "id": "dcIbRlKgUeER"
      }
    },
    {
      "cell_type": "code",
      "source": [
        "hcc.info()\n"
      ],
      "metadata": {
        "colab": {
          "base_uri": "https://localhost:8080/"
        },
        "id": "QmxR2MiIUXyb",
        "outputId": "b45c7d9f-41f7-4e7e-d8ea-91fe3a6ab7ce"
      },
      "execution_count": 5,
      "outputs": [
        {
          "output_type": "stream",
          "name": "stdout",
          "text": [
            "<class 'pandas.core.frame.DataFrame'>\n",
            "RangeIndex: 204 entries, 0 to 203\n",
            "Data columns (total 50 columns):\n",
            " #   Column          Non-Null Count  Dtype \n",
            "---  ------          --------------  ----- \n",
            " 0   Gender          204 non-null    int64 \n",
            " 1   Symptoms        204 non-null    int64 \n",
            " 2   Alcohol         204 non-null    int64 \n",
            " 3   HBsAg           204 non-null    int64 \n",
            " 4   HBeAg           204 non-null    int64 \n",
            " 5   HBcAb           204 non-null    int64 \n",
            " 6   HCVAb           204 non-null    int64 \n",
            " 7   Cirrhosis       204 non-null    int64 \n",
            " 8   Endemic         204 non-null    int64 \n",
            " 9   Smoking         204 non-null    int64 \n",
            " 10  Diabetes        204 non-null    int64 \n",
            " 11  Obesity         204 non-null    int64 \n",
            " 12  Hemochro        204 non-null    int64 \n",
            " 13  AHT             204 non-null    int64 \n",
            " 14  CRI             204 non-null    int64 \n",
            " 15  HIV             204 non-null    int64 \n",
            " 16  NASH            204 non-null    int64 \n",
            " 17  Varices         204 non-null    int64 \n",
            " 18  Spleno          204 non-null    int64 \n",
            " 19  PHT             204 non-null    int64 \n",
            " 20  PVT             204 non-null    int64 \n",
            " 21  Metastasis      204 non-null    int64 \n",
            " 22  Hallmark        204 non-null    int64 \n",
            " 23  Age             204 non-null    int64 \n",
            " 24  Grams_day       204 non-null    int64 \n",
            " 25  Packs_year      204 non-null    object\n",
            " 26  PS              204 non-null    int64 \n",
            " 27  Encephalopathy  204 non-null    int64 \n",
            " 28  Ascites         204 non-null    int64 \n",
            " 29  INR             204 non-null    object\n",
            " 30  AFP             204 non-null    object\n",
            " 31  Hemoglobin      204 non-null    object\n",
            " 32  MCV             204 non-null    object\n",
            " 33  Leucocytes      204 non-null    object\n",
            " 34  Platelets       204 non-null    object\n",
            " 35  Albumin         204 non-null    object\n",
            " 36  Total_Bil       204 non-null    object\n",
            " 37  ALT             204 non-null    int64 \n",
            " 38  AST             204 non-null    int64 \n",
            " 39  GGT             204 non-null    int64 \n",
            " 40  ALP             204 non-null    int64 \n",
            " 41  TP              204 non-null    object\n",
            " 42  Creatinine      204 non-null    object\n",
            " 43  Nodule          204 non-null    int64 \n",
            " 44  Major_Dim       204 non-null    object\n",
            " 45  Dir_Bil         204 non-null    object\n",
            " 46  Iron            204 non-null    object\n",
            " 47  Sat             204 non-null    object\n",
            " 48  Ferritin        204 non-null    object\n",
            " 49  Class           204 non-null    int64 \n",
            "dtypes: int64(34), object(16)\n",
            "memory usage: 79.8+ KB\n"
          ]
        }
      ]
    },
    {
      "cell_type": "code",
      "source": [
        "# Convert entire DataFrame to string\n",
        "\n",
        "hcc = hcc.applymap(str)\n",
        "print(hcc.dtypes)"
      ],
      "metadata": {
        "colab": {
          "base_uri": "https://localhost:8080/"
        },
        "id": "eIttmTBXUoTO",
        "outputId": "c44e1a25-6847-427f-e9c5-cc2b60d8d0c2"
      },
      "execution_count": 6,
      "outputs": [
        {
          "output_type": "stream",
          "name": "stdout",
          "text": [
            "Gender            object\n",
            "Symptoms          object\n",
            "Alcohol           object\n",
            "HBsAg             object\n",
            "HBeAg             object\n",
            "HBcAb             object\n",
            "HCVAb             object\n",
            "Cirrhosis         object\n",
            "Endemic           object\n",
            "Smoking           object\n",
            "Diabetes          object\n",
            "Obesity           object\n",
            "Hemochro          object\n",
            "AHT               object\n",
            "CRI               object\n",
            "HIV               object\n",
            "NASH              object\n",
            "Varices           object\n",
            "Spleno            object\n",
            "PHT               object\n",
            "PVT               object\n",
            "Metastasis        object\n",
            "Hallmark          object\n",
            "Age               object\n",
            "Grams_day         object\n",
            "Packs_year        object\n",
            "PS                object\n",
            "Encephalopathy    object\n",
            "Ascites           object\n",
            "INR               object\n",
            "AFP               object\n",
            "Hemoglobin        object\n",
            "MCV               object\n",
            "Leucocytes        object\n",
            "Platelets         object\n",
            "Albumin           object\n",
            "Total_Bil         object\n",
            "ALT               object\n",
            "AST               object\n",
            "GGT               object\n",
            "ALP               object\n",
            "TP                object\n",
            "Creatinine        object\n",
            "Nodule            object\n",
            "Major_Dim         object\n",
            "Dir_Bil           object\n",
            "Iron              object\n",
            "Sat               object\n",
            "Ferritin          object\n",
            "Class             object\n",
            "dtype: object\n"
          ]
        }
      ]
    },
    {
      "cell_type": "markdown",
      "source": [
        "\n",
        "Replacing ',' by '.'"
      ],
      "metadata": {
        "id": "ttuN9G1SWGZT"
      }
    },
    {
      "cell_type": "code",
      "source": [
        "data = hcc.applymap(lambda x: str(x.replace(',','.')))\n"
      ],
      "metadata": {
        "id": "4aJ31zGyVpul"
      },
      "execution_count": 7,
      "outputs": []
    },
    {
      "cell_type": "code",
      "source": [
        "data.head()\n"
      ],
      "metadata": {
        "colab": {
          "base_uri": "https://localhost:8080/",
          "height": 299
        },
        "id": "RTeCBWH5WYqr",
        "outputId": "1829a800-6532-41ce-b1c7-0affab65be56"
      },
      "execution_count": 8,
      "outputs": [
        {
          "output_type": "execute_result",
          "data": {
            "text/plain": [
              "  Gender Symptoms Alcohol HBsAg HBeAg HBcAb HCVAb Cirrhosis Endemic Smoking  \\\n",
              "0      1        0       1     0     0     0     0         1       0       1   \n",
              "1      0        0       0     0     0     0     1         1       0       1   \n",
              "2      1        0       1     1     0     1     0         1       0       1   \n",
              "3      1        1       1     0     0     0     0         1       0       1   \n",
              "4      1        1       1     1     0     1     0         1       0       1   \n",
              "\n",
              "   ...  ALP   TP Creatinine Nodule Major_Dim Dir_Bil  Iron Sat Ferritin Class  \n",
              "0  ...  150  7.1        0.7      1       3.5     0.5  52.5  37      856     1  \n",
              "1  ...  120    7       0.58      1       1.8    0.85    32  10       18     1  \n",
              "2  ...  109    7        2.1      5        13     0.1    28   6       16     1  \n",
              "3  ...  174  8.1       1.11      2      15.7     0.2   131  78     1316     0  \n",
              "4  ...  109  6.9        1.8      1         9     0.1    59  15       22     1  \n",
              "\n",
              "[5 rows x 50 columns]"
            ],
            "text/html": [
              "\n",
              "  <div id=\"df-e2acfc68-c730-433b-aa11-a2fb2115a24b\">\n",
              "    <div class=\"colab-df-container\">\n",
              "      <div>\n",
              "<style scoped>\n",
              "    .dataframe tbody tr th:only-of-type {\n",
              "        vertical-align: middle;\n",
              "    }\n",
              "\n",
              "    .dataframe tbody tr th {\n",
              "        vertical-align: top;\n",
              "    }\n",
              "\n",
              "    .dataframe thead th {\n",
              "        text-align: right;\n",
              "    }\n",
              "</style>\n",
              "<table border=\"1\" class=\"dataframe\">\n",
              "  <thead>\n",
              "    <tr style=\"text-align: right;\">\n",
              "      <th></th>\n",
              "      <th>Gender</th>\n",
              "      <th>Symptoms</th>\n",
              "      <th>Alcohol</th>\n",
              "      <th>HBsAg</th>\n",
              "      <th>HBeAg</th>\n",
              "      <th>HBcAb</th>\n",
              "      <th>HCVAb</th>\n",
              "      <th>Cirrhosis</th>\n",
              "      <th>Endemic</th>\n",
              "      <th>Smoking</th>\n",
              "      <th>...</th>\n",
              "      <th>ALP</th>\n",
              "      <th>TP</th>\n",
              "      <th>Creatinine</th>\n",
              "      <th>Nodule</th>\n",
              "      <th>Major_Dim</th>\n",
              "      <th>Dir_Bil</th>\n",
              "      <th>Iron</th>\n",
              "      <th>Sat</th>\n",
              "      <th>Ferritin</th>\n",
              "      <th>Class</th>\n",
              "    </tr>\n",
              "  </thead>\n",
              "  <tbody>\n",
              "    <tr>\n",
              "      <th>0</th>\n",
              "      <td>1</td>\n",
              "      <td>0</td>\n",
              "      <td>1</td>\n",
              "      <td>0</td>\n",
              "      <td>0</td>\n",
              "      <td>0</td>\n",
              "      <td>0</td>\n",
              "      <td>1</td>\n",
              "      <td>0</td>\n",
              "      <td>1</td>\n",
              "      <td>...</td>\n",
              "      <td>150</td>\n",
              "      <td>7.1</td>\n",
              "      <td>0.7</td>\n",
              "      <td>1</td>\n",
              "      <td>3.5</td>\n",
              "      <td>0.5</td>\n",
              "      <td>52.5</td>\n",
              "      <td>37</td>\n",
              "      <td>856</td>\n",
              "      <td>1</td>\n",
              "    </tr>\n",
              "    <tr>\n",
              "      <th>1</th>\n",
              "      <td>0</td>\n",
              "      <td>0</td>\n",
              "      <td>0</td>\n",
              "      <td>0</td>\n",
              "      <td>0</td>\n",
              "      <td>0</td>\n",
              "      <td>1</td>\n",
              "      <td>1</td>\n",
              "      <td>0</td>\n",
              "      <td>1</td>\n",
              "      <td>...</td>\n",
              "      <td>120</td>\n",
              "      <td>7</td>\n",
              "      <td>0.58</td>\n",
              "      <td>1</td>\n",
              "      <td>1.8</td>\n",
              "      <td>0.85</td>\n",
              "      <td>32</td>\n",
              "      <td>10</td>\n",
              "      <td>18</td>\n",
              "      <td>1</td>\n",
              "    </tr>\n",
              "    <tr>\n",
              "      <th>2</th>\n",
              "      <td>1</td>\n",
              "      <td>0</td>\n",
              "      <td>1</td>\n",
              "      <td>1</td>\n",
              "      <td>0</td>\n",
              "      <td>1</td>\n",
              "      <td>0</td>\n",
              "      <td>1</td>\n",
              "      <td>0</td>\n",
              "      <td>1</td>\n",
              "      <td>...</td>\n",
              "      <td>109</td>\n",
              "      <td>7</td>\n",
              "      <td>2.1</td>\n",
              "      <td>5</td>\n",
              "      <td>13</td>\n",
              "      <td>0.1</td>\n",
              "      <td>28</td>\n",
              "      <td>6</td>\n",
              "      <td>16</td>\n",
              "      <td>1</td>\n",
              "    </tr>\n",
              "    <tr>\n",
              "      <th>3</th>\n",
              "      <td>1</td>\n",
              "      <td>1</td>\n",
              "      <td>1</td>\n",
              "      <td>0</td>\n",
              "      <td>0</td>\n",
              "      <td>0</td>\n",
              "      <td>0</td>\n",
              "      <td>1</td>\n",
              "      <td>0</td>\n",
              "      <td>1</td>\n",
              "      <td>...</td>\n",
              "      <td>174</td>\n",
              "      <td>8.1</td>\n",
              "      <td>1.11</td>\n",
              "      <td>2</td>\n",
              "      <td>15.7</td>\n",
              "      <td>0.2</td>\n",
              "      <td>131</td>\n",
              "      <td>78</td>\n",
              "      <td>1316</td>\n",
              "      <td>0</td>\n",
              "    </tr>\n",
              "    <tr>\n",
              "      <th>4</th>\n",
              "      <td>1</td>\n",
              "      <td>1</td>\n",
              "      <td>1</td>\n",
              "      <td>1</td>\n",
              "      <td>0</td>\n",
              "      <td>1</td>\n",
              "      <td>0</td>\n",
              "      <td>1</td>\n",
              "      <td>0</td>\n",
              "      <td>1</td>\n",
              "      <td>...</td>\n",
              "      <td>109</td>\n",
              "      <td>6.9</td>\n",
              "      <td>1.8</td>\n",
              "      <td>1</td>\n",
              "      <td>9</td>\n",
              "      <td>0.1</td>\n",
              "      <td>59</td>\n",
              "      <td>15</td>\n",
              "      <td>22</td>\n",
              "      <td>1</td>\n",
              "    </tr>\n",
              "  </tbody>\n",
              "</table>\n",
              "<p>5 rows × 50 columns</p>\n",
              "</div>\n",
              "      <button class=\"colab-df-convert\" onclick=\"convertToInteractive('df-e2acfc68-c730-433b-aa11-a2fb2115a24b')\"\n",
              "              title=\"Convert this dataframe to an interactive table.\"\n",
              "              style=\"display:none;\">\n",
              "        \n",
              "  <svg xmlns=\"http://www.w3.org/2000/svg\" height=\"24px\"viewBox=\"0 0 24 24\"\n",
              "       width=\"24px\">\n",
              "    <path d=\"M0 0h24v24H0V0z\" fill=\"none\"/>\n",
              "    <path d=\"M18.56 5.44l.94 2.06.94-2.06 2.06-.94-2.06-.94-.94-2.06-.94 2.06-2.06.94zm-11 1L8.5 8.5l.94-2.06 2.06-.94-2.06-.94L8.5 2.5l-.94 2.06-2.06.94zm10 10l.94 2.06.94-2.06 2.06-.94-2.06-.94-.94-2.06-.94 2.06-2.06.94z\"/><path d=\"M17.41 7.96l-1.37-1.37c-.4-.4-.92-.59-1.43-.59-.52 0-1.04.2-1.43.59L10.3 9.45l-7.72 7.72c-.78.78-.78 2.05 0 2.83L4 21.41c.39.39.9.59 1.41.59.51 0 1.02-.2 1.41-.59l7.78-7.78 2.81-2.81c.8-.78.8-2.07 0-2.86zM5.41 20L4 18.59l7.72-7.72 1.47 1.35L5.41 20z\"/>\n",
              "  </svg>\n",
              "      </button>\n",
              "      \n",
              "  <style>\n",
              "    .colab-df-container {\n",
              "      display:flex;\n",
              "      flex-wrap:wrap;\n",
              "      gap: 12px;\n",
              "    }\n",
              "\n",
              "    .colab-df-convert {\n",
              "      background-color: #E8F0FE;\n",
              "      border: none;\n",
              "      border-radius: 50%;\n",
              "      cursor: pointer;\n",
              "      display: none;\n",
              "      fill: #1967D2;\n",
              "      height: 32px;\n",
              "      padding: 0 0 0 0;\n",
              "      width: 32px;\n",
              "    }\n",
              "\n",
              "    .colab-df-convert:hover {\n",
              "      background-color: #E2EBFA;\n",
              "      box-shadow: 0px 1px 2px rgba(60, 64, 67, 0.3), 0px 1px 3px 1px rgba(60, 64, 67, 0.15);\n",
              "      fill: #174EA6;\n",
              "    }\n",
              "\n",
              "    [theme=dark] .colab-df-convert {\n",
              "      background-color: #3B4455;\n",
              "      fill: #D2E3FC;\n",
              "    }\n",
              "\n",
              "    [theme=dark] .colab-df-convert:hover {\n",
              "      background-color: #434B5C;\n",
              "      box-shadow: 0px 1px 3px 1px rgba(0, 0, 0, 0.15);\n",
              "      filter: drop-shadow(0px 1px 2px rgba(0, 0, 0, 0.3));\n",
              "      fill: #FFFFFF;\n",
              "    }\n",
              "  </style>\n",
              "\n",
              "      <script>\n",
              "        const buttonEl =\n",
              "          document.querySelector('#df-e2acfc68-c730-433b-aa11-a2fb2115a24b button.colab-df-convert');\n",
              "        buttonEl.style.display =\n",
              "          google.colab.kernel.accessAllowed ? 'block' : 'none';\n",
              "\n",
              "        async function convertToInteractive(key) {\n",
              "          const element = document.querySelector('#df-e2acfc68-c730-433b-aa11-a2fb2115a24b');\n",
              "          const dataTable =\n",
              "            await google.colab.kernel.invokeFunction('convertToInteractive',\n",
              "                                                     [key], {});\n",
              "          if (!dataTable) return;\n",
              "\n",
              "          const docLinkHtml = 'Like what you see? Visit the ' +\n",
              "            '<a target=\"_blank\" href=https://colab.research.google.com/notebooks/data_table.ipynb>data table notebook</a>'\n",
              "            + ' to learn more about interactive tables.';\n",
              "          element.innerHTML = '';\n",
              "          dataTable['output_type'] = 'display_data';\n",
              "          await google.colab.output.renderOutput(dataTable, element);\n",
              "          const docLink = document.createElement('div');\n",
              "          docLink.innerHTML = docLinkHtml;\n",
              "          element.appendChild(docLink);\n",
              "        }\n",
              "      </script>\n",
              "    </div>\n",
              "  </div>\n",
              "  "
            ]
          },
          "metadata": {},
          "execution_count": 8
        }
      ]
    },
    {
      "cell_type": "code",
      "source": [
        "# Converting columns to type float\n",
        "\n",
        "data = data.astype(\"float\")\n",
        "print(data.dtypes)"
      ],
      "metadata": {
        "colab": {
          "base_uri": "https://localhost:8080/"
        },
        "id": "2YCrxV46WcoD",
        "outputId": "02c450a7-8bf9-449d-fac1-32086d8d78ef"
      },
      "execution_count": 9,
      "outputs": [
        {
          "output_type": "stream",
          "name": "stdout",
          "text": [
            "Gender            float64\n",
            "Symptoms          float64\n",
            "Alcohol           float64\n",
            "HBsAg             float64\n",
            "HBeAg             float64\n",
            "HBcAb             float64\n",
            "HCVAb             float64\n",
            "Cirrhosis         float64\n",
            "Endemic           float64\n",
            "Smoking           float64\n",
            "Diabetes          float64\n",
            "Obesity           float64\n",
            "Hemochro          float64\n",
            "AHT               float64\n",
            "CRI               float64\n",
            "HIV               float64\n",
            "NASH              float64\n",
            "Varices           float64\n",
            "Spleno            float64\n",
            "PHT               float64\n",
            "PVT               float64\n",
            "Metastasis        float64\n",
            "Hallmark          float64\n",
            "Age               float64\n",
            "Grams_day         float64\n",
            "Packs_year        float64\n",
            "PS                float64\n",
            "Encephalopathy    float64\n",
            "Ascites           float64\n",
            "INR               float64\n",
            "AFP               float64\n",
            "Hemoglobin        float64\n",
            "MCV               float64\n",
            "Leucocytes        float64\n",
            "Platelets         float64\n",
            "Albumin           float64\n",
            "Total_Bil         float64\n",
            "ALT               float64\n",
            "AST               float64\n",
            "GGT               float64\n",
            "ALP               float64\n",
            "TP                float64\n",
            "Creatinine        float64\n",
            "Nodule            float64\n",
            "Major_Dim         float64\n",
            "Dir_Bil           float64\n",
            "Iron              float64\n",
            "Sat               float64\n",
            "Ferritin          float64\n",
            "Class             float64\n",
            "dtype: object\n"
          ]
        }
      ]
    },
    {
      "cell_type": "code",
      "source": [
        "data.head()\n"
      ],
      "metadata": {
        "colab": {
          "base_uri": "https://localhost:8080/",
          "height": 299
        },
        "id": "HsCdVDjZWhgS",
        "outputId": "73ca9f36-80f9-418d-e187-b6a15bd775e8"
      },
      "execution_count": 10,
      "outputs": [
        {
          "output_type": "execute_result",
          "data": {
            "text/plain": [
              "   Gender  Symptoms  Alcohol  HBsAg  HBeAg  HBcAb  HCVAb  Cirrhosis  Endemic  \\\n",
              "0     1.0       0.0      1.0    0.0    0.0    0.0    0.0        1.0      0.0   \n",
              "1     0.0       0.0      0.0    0.0    0.0    0.0    1.0        1.0      0.0   \n",
              "2     1.0       0.0      1.0    1.0    0.0    1.0    0.0        1.0      0.0   \n",
              "3     1.0       1.0      1.0    0.0    0.0    0.0    0.0        1.0      0.0   \n",
              "4     1.0       1.0      1.0    1.0    0.0    1.0    0.0        1.0      0.0   \n",
              "\n",
              "   Smoking  ...    ALP   TP  Creatinine  Nodule  Major_Dim  Dir_Bil   Iron  \\\n",
              "0      1.0  ...  150.0  7.1        0.70     1.0        3.5     0.50   52.5   \n",
              "1      1.0  ...  120.0  7.0        0.58     1.0        1.8     0.85   32.0   \n",
              "2      1.0  ...  109.0  7.0        2.10     5.0       13.0     0.10   28.0   \n",
              "3      1.0  ...  174.0  8.1        1.11     2.0       15.7     0.20  131.0   \n",
              "4      1.0  ...  109.0  6.9        1.80     1.0        9.0     0.10   59.0   \n",
              "\n",
              "    Sat  Ferritin  Class  \n",
              "0  37.0     856.0    1.0  \n",
              "1  10.0      18.0    1.0  \n",
              "2   6.0      16.0    1.0  \n",
              "3  78.0    1316.0    0.0  \n",
              "4  15.0      22.0    1.0  \n",
              "\n",
              "[5 rows x 50 columns]"
            ],
            "text/html": [
              "\n",
              "  <div id=\"df-629ced55-b959-4605-9c15-95698c36c1de\">\n",
              "    <div class=\"colab-df-container\">\n",
              "      <div>\n",
              "<style scoped>\n",
              "    .dataframe tbody tr th:only-of-type {\n",
              "        vertical-align: middle;\n",
              "    }\n",
              "\n",
              "    .dataframe tbody tr th {\n",
              "        vertical-align: top;\n",
              "    }\n",
              "\n",
              "    .dataframe thead th {\n",
              "        text-align: right;\n",
              "    }\n",
              "</style>\n",
              "<table border=\"1\" class=\"dataframe\">\n",
              "  <thead>\n",
              "    <tr style=\"text-align: right;\">\n",
              "      <th></th>\n",
              "      <th>Gender</th>\n",
              "      <th>Symptoms</th>\n",
              "      <th>Alcohol</th>\n",
              "      <th>HBsAg</th>\n",
              "      <th>HBeAg</th>\n",
              "      <th>HBcAb</th>\n",
              "      <th>HCVAb</th>\n",
              "      <th>Cirrhosis</th>\n",
              "      <th>Endemic</th>\n",
              "      <th>Smoking</th>\n",
              "      <th>...</th>\n",
              "      <th>ALP</th>\n",
              "      <th>TP</th>\n",
              "      <th>Creatinine</th>\n",
              "      <th>Nodule</th>\n",
              "      <th>Major_Dim</th>\n",
              "      <th>Dir_Bil</th>\n",
              "      <th>Iron</th>\n",
              "      <th>Sat</th>\n",
              "      <th>Ferritin</th>\n",
              "      <th>Class</th>\n",
              "    </tr>\n",
              "  </thead>\n",
              "  <tbody>\n",
              "    <tr>\n",
              "      <th>0</th>\n",
              "      <td>1.0</td>\n",
              "      <td>0.0</td>\n",
              "      <td>1.0</td>\n",
              "      <td>0.0</td>\n",
              "      <td>0.0</td>\n",
              "      <td>0.0</td>\n",
              "      <td>0.0</td>\n",
              "      <td>1.0</td>\n",
              "      <td>0.0</td>\n",
              "      <td>1.0</td>\n",
              "      <td>...</td>\n",
              "      <td>150.0</td>\n",
              "      <td>7.1</td>\n",
              "      <td>0.70</td>\n",
              "      <td>1.0</td>\n",
              "      <td>3.5</td>\n",
              "      <td>0.50</td>\n",
              "      <td>52.5</td>\n",
              "      <td>37.0</td>\n",
              "      <td>856.0</td>\n",
              "      <td>1.0</td>\n",
              "    </tr>\n",
              "    <tr>\n",
              "      <th>1</th>\n",
              "      <td>0.0</td>\n",
              "      <td>0.0</td>\n",
              "      <td>0.0</td>\n",
              "      <td>0.0</td>\n",
              "      <td>0.0</td>\n",
              "      <td>0.0</td>\n",
              "      <td>1.0</td>\n",
              "      <td>1.0</td>\n",
              "      <td>0.0</td>\n",
              "      <td>1.0</td>\n",
              "      <td>...</td>\n",
              "      <td>120.0</td>\n",
              "      <td>7.0</td>\n",
              "      <td>0.58</td>\n",
              "      <td>1.0</td>\n",
              "      <td>1.8</td>\n",
              "      <td>0.85</td>\n",
              "      <td>32.0</td>\n",
              "      <td>10.0</td>\n",
              "      <td>18.0</td>\n",
              "      <td>1.0</td>\n",
              "    </tr>\n",
              "    <tr>\n",
              "      <th>2</th>\n",
              "      <td>1.0</td>\n",
              "      <td>0.0</td>\n",
              "      <td>1.0</td>\n",
              "      <td>1.0</td>\n",
              "      <td>0.0</td>\n",
              "      <td>1.0</td>\n",
              "      <td>0.0</td>\n",
              "      <td>1.0</td>\n",
              "      <td>0.0</td>\n",
              "      <td>1.0</td>\n",
              "      <td>...</td>\n",
              "      <td>109.0</td>\n",
              "      <td>7.0</td>\n",
              "      <td>2.10</td>\n",
              "      <td>5.0</td>\n",
              "      <td>13.0</td>\n",
              "      <td>0.10</td>\n",
              "      <td>28.0</td>\n",
              "      <td>6.0</td>\n",
              "      <td>16.0</td>\n",
              "      <td>1.0</td>\n",
              "    </tr>\n",
              "    <tr>\n",
              "      <th>3</th>\n",
              "      <td>1.0</td>\n",
              "      <td>1.0</td>\n",
              "      <td>1.0</td>\n",
              "      <td>0.0</td>\n",
              "      <td>0.0</td>\n",
              "      <td>0.0</td>\n",
              "      <td>0.0</td>\n",
              "      <td>1.0</td>\n",
              "      <td>0.0</td>\n",
              "      <td>1.0</td>\n",
              "      <td>...</td>\n",
              "      <td>174.0</td>\n",
              "      <td>8.1</td>\n",
              "      <td>1.11</td>\n",
              "      <td>2.0</td>\n",
              "      <td>15.7</td>\n",
              "      <td>0.20</td>\n",
              "      <td>131.0</td>\n",
              "      <td>78.0</td>\n",
              "      <td>1316.0</td>\n",
              "      <td>0.0</td>\n",
              "    </tr>\n",
              "    <tr>\n",
              "      <th>4</th>\n",
              "      <td>1.0</td>\n",
              "      <td>1.0</td>\n",
              "      <td>1.0</td>\n",
              "      <td>1.0</td>\n",
              "      <td>0.0</td>\n",
              "      <td>1.0</td>\n",
              "      <td>0.0</td>\n",
              "      <td>1.0</td>\n",
              "      <td>0.0</td>\n",
              "      <td>1.0</td>\n",
              "      <td>...</td>\n",
              "      <td>109.0</td>\n",
              "      <td>6.9</td>\n",
              "      <td>1.80</td>\n",
              "      <td>1.0</td>\n",
              "      <td>9.0</td>\n",
              "      <td>0.10</td>\n",
              "      <td>59.0</td>\n",
              "      <td>15.0</td>\n",
              "      <td>22.0</td>\n",
              "      <td>1.0</td>\n",
              "    </tr>\n",
              "  </tbody>\n",
              "</table>\n",
              "<p>5 rows × 50 columns</p>\n",
              "</div>\n",
              "      <button class=\"colab-df-convert\" onclick=\"convertToInteractive('df-629ced55-b959-4605-9c15-95698c36c1de')\"\n",
              "              title=\"Convert this dataframe to an interactive table.\"\n",
              "              style=\"display:none;\">\n",
              "        \n",
              "  <svg xmlns=\"http://www.w3.org/2000/svg\" height=\"24px\"viewBox=\"0 0 24 24\"\n",
              "       width=\"24px\">\n",
              "    <path d=\"M0 0h24v24H0V0z\" fill=\"none\"/>\n",
              "    <path d=\"M18.56 5.44l.94 2.06.94-2.06 2.06-.94-2.06-.94-.94-2.06-.94 2.06-2.06.94zm-11 1L8.5 8.5l.94-2.06 2.06-.94-2.06-.94L8.5 2.5l-.94 2.06-2.06.94zm10 10l.94 2.06.94-2.06 2.06-.94-2.06-.94-.94-2.06-.94 2.06-2.06.94z\"/><path d=\"M17.41 7.96l-1.37-1.37c-.4-.4-.92-.59-1.43-.59-.52 0-1.04.2-1.43.59L10.3 9.45l-7.72 7.72c-.78.78-.78 2.05 0 2.83L4 21.41c.39.39.9.59 1.41.59.51 0 1.02-.2 1.41-.59l7.78-7.78 2.81-2.81c.8-.78.8-2.07 0-2.86zM5.41 20L4 18.59l7.72-7.72 1.47 1.35L5.41 20z\"/>\n",
              "  </svg>\n",
              "      </button>\n",
              "      \n",
              "  <style>\n",
              "    .colab-df-container {\n",
              "      display:flex;\n",
              "      flex-wrap:wrap;\n",
              "      gap: 12px;\n",
              "    }\n",
              "\n",
              "    .colab-df-convert {\n",
              "      background-color: #E8F0FE;\n",
              "      border: none;\n",
              "      border-radius: 50%;\n",
              "      cursor: pointer;\n",
              "      display: none;\n",
              "      fill: #1967D2;\n",
              "      height: 32px;\n",
              "      padding: 0 0 0 0;\n",
              "      width: 32px;\n",
              "    }\n",
              "\n",
              "    .colab-df-convert:hover {\n",
              "      background-color: #E2EBFA;\n",
              "      box-shadow: 0px 1px 2px rgba(60, 64, 67, 0.3), 0px 1px 3px 1px rgba(60, 64, 67, 0.15);\n",
              "      fill: #174EA6;\n",
              "    }\n",
              "\n",
              "    [theme=dark] .colab-df-convert {\n",
              "      background-color: #3B4455;\n",
              "      fill: #D2E3FC;\n",
              "    }\n",
              "\n",
              "    [theme=dark] .colab-df-convert:hover {\n",
              "      background-color: #434B5C;\n",
              "      box-shadow: 0px 1px 3px 1px rgba(0, 0, 0, 0.15);\n",
              "      filter: drop-shadow(0px 1px 2px rgba(0, 0, 0, 0.3));\n",
              "      fill: #FFFFFF;\n",
              "    }\n",
              "  </style>\n",
              "\n",
              "      <script>\n",
              "        const buttonEl =\n",
              "          document.querySelector('#df-629ced55-b959-4605-9c15-95698c36c1de button.colab-df-convert');\n",
              "        buttonEl.style.display =\n",
              "          google.colab.kernel.accessAllowed ? 'block' : 'none';\n",
              "\n",
              "        async function convertToInteractive(key) {\n",
              "          const element = document.querySelector('#df-629ced55-b959-4605-9c15-95698c36c1de');\n",
              "          const dataTable =\n",
              "            await google.colab.kernel.invokeFunction('convertToInteractive',\n",
              "                                                     [key], {});\n",
              "          if (!dataTable) return;\n",
              "\n",
              "          const docLinkHtml = 'Like what you see? Visit the ' +\n",
              "            '<a target=\"_blank\" href=https://colab.research.google.com/notebooks/data_table.ipynb>data table notebook</a>'\n",
              "            + ' to learn more about interactive tables.';\n",
              "          element.innerHTML = '';\n",
              "          dataTable['output_type'] = 'display_data';\n",
              "          await google.colab.output.renderOutput(dataTable, element);\n",
              "          const docLink = document.createElement('div');\n",
              "          docLink.innerHTML = docLinkHtml;\n",
              "          element.appendChild(docLink);\n",
              "        }\n",
              "      </script>\n",
              "    </div>\n",
              "  </div>\n",
              "  "
            ]
          },
          "metadata": {},
          "execution_count": 10
        }
      ]
    },
    {
      "cell_type": "markdown",
      "source": [
        "spilitting features and labels\n"
      ],
      "metadata": {
        "id": "PZAbAtj4Xv2u"
      }
    },
    {
      "cell_type": "code",
      "source": [
        "X = data.iloc[:,:-1]  # all features of the dataset \n",
        "X.head()"
      ],
      "metadata": {
        "colab": {
          "base_uri": "https://localhost:8080/",
          "height": 299
        },
        "id": "ITJ73OOAXqPI",
        "outputId": "20f034f4-7504-407e-8901-e42598d27174"
      },
      "execution_count": 11,
      "outputs": [
        {
          "output_type": "execute_result",
          "data": {
            "text/plain": [
              "   Gender  Symptoms  Alcohol  HBsAg  HBeAg  HBcAb  HCVAb  Cirrhosis  Endemic  \\\n",
              "0     1.0       0.0      1.0    0.0    0.0    0.0    0.0        1.0      0.0   \n",
              "1     0.0       0.0      0.0    0.0    0.0    0.0    1.0        1.0      0.0   \n",
              "2     1.0       0.0      1.0    1.0    0.0    1.0    0.0        1.0      0.0   \n",
              "3     1.0       1.0      1.0    0.0    0.0    0.0    0.0        1.0      0.0   \n",
              "4     1.0       1.0      1.0    1.0    0.0    1.0    0.0        1.0      0.0   \n",
              "\n",
              "   Smoking  ...    GGT    ALP   TP  Creatinine  Nodule  Major_Dim  Dir_Bil  \\\n",
              "0      1.0  ...  183.0  150.0  7.1        0.70     1.0        3.5     0.50   \n",
              "1      1.0  ...   77.0  120.0  7.0        0.58     1.0        1.8     0.85   \n",
              "2      1.0  ...  202.0  109.0  7.0        2.10     5.0       13.0     0.10   \n",
              "3      1.0  ...   94.0  174.0  8.1        1.11     2.0       15.7     0.20   \n",
              "4      1.0  ...  173.0  109.0  6.9        1.80     1.0        9.0     0.10   \n",
              "\n",
              "    Iron   Sat  Ferritin  \n",
              "0   52.5  37.0     856.0  \n",
              "1   32.0  10.0      18.0  \n",
              "2   28.0   6.0      16.0  \n",
              "3  131.0  78.0    1316.0  \n",
              "4   59.0  15.0      22.0  \n",
              "\n",
              "[5 rows x 49 columns]"
            ],
            "text/html": [
              "\n",
              "  <div id=\"df-a4636891-2bd0-4ece-b253-cd2a085a574f\">\n",
              "    <div class=\"colab-df-container\">\n",
              "      <div>\n",
              "<style scoped>\n",
              "    .dataframe tbody tr th:only-of-type {\n",
              "        vertical-align: middle;\n",
              "    }\n",
              "\n",
              "    .dataframe tbody tr th {\n",
              "        vertical-align: top;\n",
              "    }\n",
              "\n",
              "    .dataframe thead th {\n",
              "        text-align: right;\n",
              "    }\n",
              "</style>\n",
              "<table border=\"1\" class=\"dataframe\">\n",
              "  <thead>\n",
              "    <tr style=\"text-align: right;\">\n",
              "      <th></th>\n",
              "      <th>Gender</th>\n",
              "      <th>Symptoms</th>\n",
              "      <th>Alcohol</th>\n",
              "      <th>HBsAg</th>\n",
              "      <th>HBeAg</th>\n",
              "      <th>HBcAb</th>\n",
              "      <th>HCVAb</th>\n",
              "      <th>Cirrhosis</th>\n",
              "      <th>Endemic</th>\n",
              "      <th>Smoking</th>\n",
              "      <th>...</th>\n",
              "      <th>GGT</th>\n",
              "      <th>ALP</th>\n",
              "      <th>TP</th>\n",
              "      <th>Creatinine</th>\n",
              "      <th>Nodule</th>\n",
              "      <th>Major_Dim</th>\n",
              "      <th>Dir_Bil</th>\n",
              "      <th>Iron</th>\n",
              "      <th>Sat</th>\n",
              "      <th>Ferritin</th>\n",
              "    </tr>\n",
              "  </thead>\n",
              "  <tbody>\n",
              "    <tr>\n",
              "      <th>0</th>\n",
              "      <td>1.0</td>\n",
              "      <td>0.0</td>\n",
              "      <td>1.0</td>\n",
              "      <td>0.0</td>\n",
              "      <td>0.0</td>\n",
              "      <td>0.0</td>\n",
              "      <td>0.0</td>\n",
              "      <td>1.0</td>\n",
              "      <td>0.0</td>\n",
              "      <td>1.0</td>\n",
              "      <td>...</td>\n",
              "      <td>183.0</td>\n",
              "      <td>150.0</td>\n",
              "      <td>7.1</td>\n",
              "      <td>0.70</td>\n",
              "      <td>1.0</td>\n",
              "      <td>3.5</td>\n",
              "      <td>0.50</td>\n",
              "      <td>52.5</td>\n",
              "      <td>37.0</td>\n",
              "      <td>856.0</td>\n",
              "    </tr>\n",
              "    <tr>\n",
              "      <th>1</th>\n",
              "      <td>0.0</td>\n",
              "      <td>0.0</td>\n",
              "      <td>0.0</td>\n",
              "      <td>0.0</td>\n",
              "      <td>0.0</td>\n",
              "      <td>0.0</td>\n",
              "      <td>1.0</td>\n",
              "      <td>1.0</td>\n",
              "      <td>0.0</td>\n",
              "      <td>1.0</td>\n",
              "      <td>...</td>\n",
              "      <td>77.0</td>\n",
              "      <td>120.0</td>\n",
              "      <td>7.0</td>\n",
              "      <td>0.58</td>\n",
              "      <td>1.0</td>\n",
              "      <td>1.8</td>\n",
              "      <td>0.85</td>\n",
              "      <td>32.0</td>\n",
              "      <td>10.0</td>\n",
              "      <td>18.0</td>\n",
              "    </tr>\n",
              "    <tr>\n",
              "      <th>2</th>\n",
              "      <td>1.0</td>\n",
              "      <td>0.0</td>\n",
              "      <td>1.0</td>\n",
              "      <td>1.0</td>\n",
              "      <td>0.0</td>\n",
              "      <td>1.0</td>\n",
              "      <td>0.0</td>\n",
              "      <td>1.0</td>\n",
              "      <td>0.0</td>\n",
              "      <td>1.0</td>\n",
              "      <td>...</td>\n",
              "      <td>202.0</td>\n",
              "      <td>109.0</td>\n",
              "      <td>7.0</td>\n",
              "      <td>2.10</td>\n",
              "      <td>5.0</td>\n",
              "      <td>13.0</td>\n",
              "      <td>0.10</td>\n",
              "      <td>28.0</td>\n",
              "      <td>6.0</td>\n",
              "      <td>16.0</td>\n",
              "    </tr>\n",
              "    <tr>\n",
              "      <th>3</th>\n",
              "      <td>1.0</td>\n",
              "      <td>1.0</td>\n",
              "      <td>1.0</td>\n",
              "      <td>0.0</td>\n",
              "      <td>0.0</td>\n",
              "      <td>0.0</td>\n",
              "      <td>0.0</td>\n",
              "      <td>1.0</td>\n",
              "      <td>0.0</td>\n",
              "      <td>1.0</td>\n",
              "      <td>...</td>\n",
              "      <td>94.0</td>\n",
              "      <td>174.0</td>\n",
              "      <td>8.1</td>\n",
              "      <td>1.11</td>\n",
              "      <td>2.0</td>\n",
              "      <td>15.7</td>\n",
              "      <td>0.20</td>\n",
              "      <td>131.0</td>\n",
              "      <td>78.0</td>\n",
              "      <td>1316.0</td>\n",
              "    </tr>\n",
              "    <tr>\n",
              "      <th>4</th>\n",
              "      <td>1.0</td>\n",
              "      <td>1.0</td>\n",
              "      <td>1.0</td>\n",
              "      <td>1.0</td>\n",
              "      <td>0.0</td>\n",
              "      <td>1.0</td>\n",
              "      <td>0.0</td>\n",
              "      <td>1.0</td>\n",
              "      <td>0.0</td>\n",
              "      <td>1.0</td>\n",
              "      <td>...</td>\n",
              "      <td>173.0</td>\n",
              "      <td>109.0</td>\n",
              "      <td>6.9</td>\n",
              "      <td>1.80</td>\n",
              "      <td>1.0</td>\n",
              "      <td>9.0</td>\n",
              "      <td>0.10</td>\n",
              "      <td>59.0</td>\n",
              "      <td>15.0</td>\n",
              "      <td>22.0</td>\n",
              "    </tr>\n",
              "  </tbody>\n",
              "</table>\n",
              "<p>5 rows × 49 columns</p>\n",
              "</div>\n",
              "      <button class=\"colab-df-convert\" onclick=\"convertToInteractive('df-a4636891-2bd0-4ece-b253-cd2a085a574f')\"\n",
              "              title=\"Convert this dataframe to an interactive table.\"\n",
              "              style=\"display:none;\">\n",
              "        \n",
              "  <svg xmlns=\"http://www.w3.org/2000/svg\" height=\"24px\"viewBox=\"0 0 24 24\"\n",
              "       width=\"24px\">\n",
              "    <path d=\"M0 0h24v24H0V0z\" fill=\"none\"/>\n",
              "    <path d=\"M18.56 5.44l.94 2.06.94-2.06 2.06-.94-2.06-.94-.94-2.06-.94 2.06-2.06.94zm-11 1L8.5 8.5l.94-2.06 2.06-.94-2.06-.94L8.5 2.5l-.94 2.06-2.06.94zm10 10l.94 2.06.94-2.06 2.06-.94-2.06-.94-.94-2.06-.94 2.06-2.06.94z\"/><path d=\"M17.41 7.96l-1.37-1.37c-.4-.4-.92-.59-1.43-.59-.52 0-1.04.2-1.43.59L10.3 9.45l-7.72 7.72c-.78.78-.78 2.05 0 2.83L4 21.41c.39.39.9.59 1.41.59.51 0 1.02-.2 1.41-.59l7.78-7.78 2.81-2.81c.8-.78.8-2.07 0-2.86zM5.41 20L4 18.59l7.72-7.72 1.47 1.35L5.41 20z\"/>\n",
              "  </svg>\n",
              "      </button>\n",
              "      \n",
              "  <style>\n",
              "    .colab-df-container {\n",
              "      display:flex;\n",
              "      flex-wrap:wrap;\n",
              "      gap: 12px;\n",
              "    }\n",
              "\n",
              "    .colab-df-convert {\n",
              "      background-color: #E8F0FE;\n",
              "      border: none;\n",
              "      border-radius: 50%;\n",
              "      cursor: pointer;\n",
              "      display: none;\n",
              "      fill: #1967D2;\n",
              "      height: 32px;\n",
              "      padding: 0 0 0 0;\n",
              "      width: 32px;\n",
              "    }\n",
              "\n",
              "    .colab-df-convert:hover {\n",
              "      background-color: #E2EBFA;\n",
              "      box-shadow: 0px 1px 2px rgba(60, 64, 67, 0.3), 0px 1px 3px 1px rgba(60, 64, 67, 0.15);\n",
              "      fill: #174EA6;\n",
              "    }\n",
              "\n",
              "    [theme=dark] .colab-df-convert {\n",
              "      background-color: #3B4455;\n",
              "      fill: #D2E3FC;\n",
              "    }\n",
              "\n",
              "    [theme=dark] .colab-df-convert:hover {\n",
              "      background-color: #434B5C;\n",
              "      box-shadow: 0px 1px 3px 1px rgba(0, 0, 0, 0.15);\n",
              "      filter: drop-shadow(0px 1px 2px rgba(0, 0, 0, 0.3));\n",
              "      fill: #FFFFFF;\n",
              "    }\n",
              "  </style>\n",
              "\n",
              "      <script>\n",
              "        const buttonEl =\n",
              "          document.querySelector('#df-a4636891-2bd0-4ece-b253-cd2a085a574f button.colab-df-convert');\n",
              "        buttonEl.style.display =\n",
              "          google.colab.kernel.accessAllowed ? 'block' : 'none';\n",
              "\n",
              "        async function convertToInteractive(key) {\n",
              "          const element = document.querySelector('#df-a4636891-2bd0-4ece-b253-cd2a085a574f');\n",
              "          const dataTable =\n",
              "            await google.colab.kernel.invokeFunction('convertToInteractive',\n",
              "                                                     [key], {});\n",
              "          if (!dataTable) return;\n",
              "\n",
              "          const docLinkHtml = 'Like what you see? Visit the ' +\n",
              "            '<a target=\"_blank\" href=https://colab.research.google.com/notebooks/data_table.ipynb>data table notebook</a>'\n",
              "            + ' to learn more about interactive tables.';\n",
              "          element.innerHTML = '';\n",
              "          dataTable['output_type'] = 'display_data';\n",
              "          await google.colab.output.renderOutput(dataTable, element);\n",
              "          const docLink = document.createElement('div');\n",
              "          docLink.innerHTML = docLinkHtml;\n",
              "          element.appendChild(docLink);\n",
              "        }\n",
              "      </script>\n",
              "    </div>\n",
              "  </div>\n",
              "  "
            ]
          },
          "metadata": {},
          "execution_count": 11
        }
      ]
    },
    {
      "cell_type": "code",
      "source": [
        "Y = hcc.iloc[:,-1]  # target label (0 or 1)\n",
        "Y.head()"
      ],
      "metadata": {
        "colab": {
          "base_uri": "https://localhost:8080/"
        },
        "id": "W9avtNTKX_kI",
        "outputId": "bd20c92e-7ff3-401f-bd9b-d5b6b2d9e5f0"
      },
      "execution_count": 12,
      "outputs": [
        {
          "output_type": "execute_result",
          "data": {
            "text/plain": [
              "0    1\n",
              "1    1\n",
              "2    1\n",
              "3    0\n",
              "4    1\n",
              "Name: Class, dtype: object"
            ]
          },
          "metadata": {},
          "execution_count": 12
        }
      ]
    },
    {
      "cell_type": "code",
      "source": [
        "y = Y.astype(int)\n",
        "y"
      ],
      "metadata": {
        "colab": {
          "base_uri": "https://localhost:8080/"
        },
        "id": "fnLO54BJZPYU",
        "outputId": "c410a6a4-c00c-4bf9-c39d-771ec456cd95"
      },
      "execution_count": 13,
      "outputs": [
        {
          "output_type": "execute_result",
          "data": {
            "text/plain": [
              "0      1\n",
              "1      1\n",
              "2      1\n",
              "3      0\n",
              "4      1\n",
              "      ..\n",
              "199    0\n",
              "200    0\n",
              "201    0\n",
              "202    0\n",
              "203    0\n",
              "Name: Class, Length: 204, dtype: int64"
            ]
          },
          "metadata": {},
          "execution_count": 13
        }
      ]
    },
    {
      "cell_type": "code",
      "source": [
        "print(X)\n",
        "print(Y)"
      ],
      "metadata": {
        "colab": {
          "base_uri": "https://localhost:8080/"
        },
        "id": "n4utNuqpZXaw",
        "outputId": "7242fe9d-36c3-4279-8435-a147ceaa1d42"
      },
      "execution_count": 14,
      "outputs": [
        {
          "output_type": "stream",
          "name": "stdout",
          "text": [
            "     Gender  Symptoms  Alcohol  HBsAg  HBeAg  HBcAb  HCVAb  Cirrhosis  \\\n",
            "0       1.0       0.0      1.0    0.0    0.0    0.0    0.0        1.0   \n",
            "1       0.0       0.0      0.0    0.0    0.0    0.0    1.0        1.0   \n",
            "2       1.0       0.0      1.0    1.0    0.0    1.0    0.0        1.0   \n",
            "3       1.0       1.0      1.0    0.0    0.0    0.0    0.0        1.0   \n",
            "4       1.0       1.0      1.0    1.0    0.0    1.0    0.0        1.0   \n",
            "..      ...       ...      ...    ...    ...    ...    ...        ...   \n",
            "199     0.0       0.0      0.0    0.0    0.0    0.0    1.0        1.0   \n",
            "200     0.0       1.0      1.0    0.0    0.0    0.0    0.0        1.0   \n",
            "201     1.0       1.0      1.0    0.0    0.0    0.0    0.0        1.0   \n",
            "202     1.0       1.0      1.0    0.0    0.0    0.0    0.0        1.0   \n",
            "203     0.0       1.0      0.0    0.0    0.0    0.0    0.0        0.0   \n",
            "\n",
            "     Endemic  Smoking  ...    GGT    ALP   TP  Creatinine  Nodule  Major_Dim  \\\n",
            "0        0.0      1.0  ...  183.0  150.0  7.1        0.70     1.0        3.5   \n",
            "1        0.0      1.0  ...   77.0  120.0  7.0        0.58     1.0        1.8   \n",
            "2        0.0      1.0  ...  202.0  109.0  7.0        2.10     5.0       13.0   \n",
            "3        0.0      1.0  ...   94.0  174.0  8.1        1.11     2.0       15.7   \n",
            "4        0.0      1.0  ...  173.0  109.0  6.9        1.80     1.0        9.0   \n",
            "..       ...      ...  ...    ...    ...  ...         ...     ...        ...   \n",
            "199      0.0      0.0  ...  389.0  117.0  7.0        5.25     2.0        8.8   \n",
            "200      0.0      0.0  ...  229.0  231.0  6.5        0.78     2.0        7.6   \n",
            "201      0.0      0.0  ...  469.0  304.0  7.0        1.07     1.0       12.0   \n",
            "202      0.0      0.0  ...  203.0  197.0  7.2        1.08     5.0        3.0   \n",
            "203      0.0      0.0  ...  730.0  579.0  7.2        2.13     5.0       16.1   \n",
            "\n",
            "     Dir_Bil   Iron   Sat  Ferritin  \n",
            "0       0.50   52.5  37.0     856.0  \n",
            "1       0.85   32.0  10.0      18.0  \n",
            "2       0.10   28.0   6.0      16.0  \n",
            "3       0.20  131.0  78.0    1316.0  \n",
            "4       0.10   59.0  15.0      22.0  \n",
            "..       ...    ...   ...       ...  \n",
            "199     1.35   73.3  46.0     873.0  \n",
            "200     1.04   69.3  23.0      70.0  \n",
            "201     1.57   71.2  29.0     106.0  \n",
            "202     0.63   94.4  83.0     859.0  \n",
            "203     0.11   14.6   5.0     161.0  \n",
            "\n",
            "[204 rows x 49 columns]\n",
            "0      1\n",
            "1      1\n",
            "2      1\n",
            "3      0\n",
            "4      1\n",
            "      ..\n",
            "199    0\n",
            "200    0\n",
            "201    0\n",
            "202    0\n",
            "203    0\n",
            "Name: Class, Length: 204, dtype: object\n"
          ]
        }
      ]
    },
    {
      "cell_type": "markdown",
      "source": [
        "\n",
        "Scaling the dataset"
      ],
      "metadata": {
        "id": "zjqgbq4YaF2b"
      }
    },
    {
      "cell_type": "code",
      "source": [
        "from sklearn.preprocessing import MinMaxScaler\n",
        "scaler = MinMaxScaler()\n",
        "numvars = ['Gender', 'Symptoms', 'Alcohol', 'HBsAg', 'HBeAg', 'HBcAb', 'HCVAb',\n",
        "       'Cirrhosis', 'Endemic', 'Smoking', 'Diabetes', 'Obesity', 'Hemochro',\n",
        "       'AHT', 'CRI', 'HIV', 'NASH', 'Varices', 'Spleno', 'PHT', 'PVT',\n",
        "       'Metastasis', 'Hallmark', 'Age', 'Grams_day', 'Packs_year', 'PS',\n",
        "       'Encephalopathy', 'Ascites', 'INR', 'AFP', 'Hemoglobin', 'MCV',\n",
        "       'Leucocytes', 'Platelets', 'Albumin', 'Total_Bil', 'ALT', 'AST', 'GGT',\n",
        "       'ALP', 'TP', 'Creatinine', 'Nodule', 'Major_Dim', 'Dir_Bil', 'Iron',\n",
        "       'Sat', 'Ferritin']\n",
        "scaler = MinMaxScaler()\n",
        "X[numvars] = scaler.fit_transform(X)"
      ],
      "metadata": {
        "colab": {
          "base_uri": "https://localhost:8080/"
        },
        "id": "vroh4iykZ_Ne",
        "outputId": "1b5aaa25-06d6-484a-826f-2eec23e09c75"
      },
      "execution_count": 15,
      "outputs": [
        {
          "output_type": "stream",
          "name": "stderr",
          "text": [
            "/usr/local/lib/python3.8/dist-packages/pandas/core/frame.py:3678: SettingWithCopyWarning: \n",
            "A value is trying to be set on a copy of a slice from a DataFrame.\n",
            "Try using .loc[row_indexer,col_indexer] = value instead\n",
            "\n",
            "See the caveats in the documentation: https://pandas.pydata.org/pandas-docs/stable/user_guide/indexing.html#returning-a-view-versus-a-copy\n",
            "  self[col] = igetitem(value, i)\n"
          ]
        }
      ]
    },
    {
      "cell_type": "code",
      "source": [
        "from sklearn.model_selection import train_test_split\n",
        "\n",
        "X_train, X_test, y_train, y_test = train_test_split(X, y, test_size=0.2, random_state=0)"
      ],
      "metadata": {
        "id": "0RzgExhhaYEV"
      },
      "execution_count": 16,
      "outputs": []
    },
    {
      "cell_type": "markdown",
      "source": [
        "LDA ---- dimensionality reduction"
      ],
      "metadata": {
        "id": "f6C0mm6haq4p"
      }
    },
    {
      "cell_type": "code",
      "source": [
        "from sklearn.discriminant_analysis import LinearDiscriminantAnalysis as LDA\n"
      ],
      "metadata": {
        "id": "qOWEn5ohafaF"
      },
      "execution_count": 17,
      "outputs": []
    },
    {
      "cell_type": "code",
      "source": [
        "lda = LDA(n_components=1)\n",
        "X_train = lda.fit_transform(X_train, y_train)\n",
        "X_test = lda.transform(X_test)"
      ],
      "metadata": {
        "id": "thWVsVzDa08I"
      },
      "execution_count": 18,
      "outputs": []
    },
    {
      "cell_type": "code",
      "source": [
        "#Import svm model\n",
        "from sklearn import svm"
      ],
      "metadata": {
        "id": "s1R-2_Lpbsj5"
      },
      "execution_count": 19,
      "outputs": []
    },
    {
      "cell_type": "code",
      "source": [
        "#Create a svm Classifier\n",
        "clf = svm.SVC(C=20,kernel='sigmoid') # Polynomial Kernel\n",
        "\n",
        "#Train the model using the training sets\n",
        "clf.fit(X_train, y_train)\n",
        "\n",
        "#Predict the response for test dataset\n",
        "y_pred = clf.predict(X_test)"
      ],
      "metadata": {
        "id": "1uPBoYrIbt9A"
      },
      "execution_count": 20,
      "outputs": []
    },
    {
      "cell_type": "code",
      "source": [
        "from sklearn.datasets import make_classification\n",
        "from sklearn.metrics import accuracy_score, f1_score, precision_score, recall_score, classification_report, confusion_matrix,ConfusionMatrixDisplay\n",
        "\n",
        "print(\"f1 score : \",f1_score(y_test, y_pred, average=\"macro\"))\n",
        "print(\"precision : \",precision_score(y_test, y_pred, average=\"macro\"))\n",
        "print(\"recall : \",recall_score(y_test, y_pred, average=\"macro\"))  \n",
        "print(\"accuracy:\",accuracy_score(y_test, y_pred))"
      ],
      "metadata": {
        "colab": {
          "base_uri": "https://localhost:8080/"
        },
        "id": "hrSQcQsfbyhJ",
        "outputId": "0850560d-6647-40ba-aa49-e07640bd34f0"
      },
      "execution_count": 21,
      "outputs": [
        {
          "output_type": "stream",
          "name": "stdout",
          "text": [
            "f1 score :  0.7028985507246377\n",
            "precision :  0.7150000000000001\n",
            "recall :  0.7047619047619047\n",
            "accuracy: 0.7073170731707317\n"
          ]
        }
      ]
    },
    {
      "cell_type": "code",
      "source": [
        "from sklearn.metrics import confusion_matrix\n",
        "from sklearn.metrics import accuracy_score\n",
        "\n",
        "cm = confusion_matrix(y_test, y_pred)\n",
        "print(cm)\n",
        "print('Accuracy' + str(accuracy_score(y_test, y_pred)))"
      ],
      "metadata": {
        "colab": {
          "base_uri": "https://localhost:8080/"
        },
        "id": "_sBnlOvhb8jX",
        "outputId": "7f699822-b838-4a9c-a0a6-5ba9b38bfbe3"
      },
      "execution_count": 22,
      "outputs": [
        {
          "output_type": "stream",
          "name": "stdout",
          "text": [
            "[[17  4]\n",
            " [ 8 12]]\n",
            "Accuracy0.7073170731707317\n"
          ]
        }
      ]
    },
    {
      "cell_type": "code",
      "source": [
        "# Fit the LDA model\n",
        "# model = LinearDiscriminantAnalysis()\n",
        "# model.fit(X, Y)"
      ],
      "metadata": {
        "id": "95HKZg-JcBaD"
      },
      "execution_count": null,
      "outputs": []
    },
    {
      "cell_type": "code",
      "source": [
        "from sklearn import metrics\n",
        "auc = metrics.roc_auc_score(y_test, y_pred)\n",
        "\n",
        "false_positive_rate, true_positive_rate, thresolds = metrics.roc_curve(y_test, y_pred)\n",
        "\n",
        "plt.figure(figsize=(6, 6), dpi=100)\n",
        "plt.axis('scaled')\n",
        "plt.xlim([0, 1])\n",
        "plt.ylim([0, 1])\n",
        "plt.title(\"AUC & ROC Curve\")\n",
        "plt.plot(false_positive_rate, true_positive_rate,'--' )\n",
        "plt.fill_between(false_positive_rate, true_positive_rate, facecolor='lightblue', alpha=0.7)\n",
        "plt.text(0.95, 0.05, 'AUC = %0.4f' % auc, ha='right', fontsize=12, weight='bold', color='blue')\n",
        "plt.xlabel(\"False Positive Rate\")\n",
        "plt.ylabel(\"True Positive Rate\")\n",
        "plt.show()"
      ],
      "metadata": {
        "colab": {
          "base_uri": "https://localhost:8080/",
          "height": 555
        },
        "id": "9-JaGzA-cFYv",
        "outputId": "9f42da06-e50c-40da-c784-054ee7befcf7"
      },
      "execution_count": 23,
      "outputs": [
        {
          "output_type": "display_data",
          "data": {
            "text/plain": [
              "<Figure size 600x600 with 1 Axes>"
            ],
            "image/png": "[encoded data removed]"
          },
          "metadata": {
            "needs_background": "light"
          }
        }
      ]
    },
    {
      "cell_type": "markdown",
      "source": [
        "\n",
        "PCA using SVD"
      ],
      "metadata": {
        "id": "9FbPZtfpcOpa"
      }
    },
    {
      "cell_type": "code",
      "source": [
        "### PCA using SVD\n",
        "\n",
        "X_centered = X - np.mean(X)\n",
        "X_c = 1/(X.shape[0] - 1) * np.dot(np.transpose(X_centered), X_centered)\n",
        "u, s, vt = np.linalg.svd(X_c, full_matrices = False)"
      ],
      "metadata": {
        "id": "H751KzfXcM_c"
      },
      "execution_count": 24,
      "outputs": []
    },
    {
      "cell_type": "code",
      "source": [
        "X_c\n"
      ],
      "metadata": {
        "colab": {
          "base_uri": "https://localhost:8080/"
        },
        "id": "K9KHik9tccpf",
        "outputId": "d64ac111-2caa-438e-b793-b4fd0e2a3021"
      },
      "execution_count": 25,
      "outputs": [
        {
          "output_type": "execute_result",
          "data": {
            "text/plain": [
              "array([[ 1.64300203e-01,  9.99710229e-03,  8.01217039e-02, ...,\n",
              "         2.40241571e-02,  2.53987802e-02,  2.13013515e-02],\n",
              "       [ 9.99710229e-03,  2.14503043e-01, -7.89626195e-03, ...,\n",
              "         1.75706058e-04,  9.66553288e-03,  1.53783234e-02],\n",
              "       [ 8.01217039e-02, -7.89626195e-03,  2.02332657e-01, ...,\n",
              "         1.60067152e-02,  1.71973962e-02,  2.64125366e-03],\n",
              "       ...,\n",
              "       [ 2.40241571e-02,  1.75706058e-04,  1.60067152e-02, ...,\n",
              "         6.11799043e-02,  4.50090165e-02,  9.18848550e-03],\n",
              "       [ 2.53987802e-02,  9.66553288e-03,  1.71973962e-02, ...,\n",
              "         4.50090165e-02,  5.24087403e-02,  2.19623705e-02],\n",
              "       [ 2.13013515e-02,  1.53783234e-02,  2.64125366e-03, ...,\n",
              "         9.18848550e-03,  2.19623705e-02,  3.90104823e-02]])"
            ]
          },
          "metadata": {},
          "execution_count": 25
        }
      ]
    },
    {
      "cell_type": "code",
      "source": [
        "D = s\n",
        "D = (D/D.sum())*100\n",
        "\n",
        "print('S : ',s)\n",
        "print('\\nD : ', D)\n",
        "print('Max(s) : ', s.max())\n",
        "print('Min(s) : ', s.min())\n",
        "print('Max(D) : ', D.max())\n",
        "print('Min(D) : ', D.min())"
      ],
      "metadata": {
        "colab": {
          "base_uri": "https://localhost:8080/"
        },
        "id": "2uYTnqKWcduv",
        "outputId": "5631a27c-1ad1-420c-f593-b0d0c435dac4"
      },
      "execution_count": 26,
      "outputs": [
        {
          "output_type": "stream",
          "name": "stdout",
          "text": [
            "S :  [7.21046728e-01 4.22332465e-01 3.65837891e-01 3.25698509e-01\n",
            " 2.63801318e-01 2.32863270e-01 2.03575514e-01 1.91614692e-01\n",
            " 1.62261393e-01 1.46124477e-01 1.39968550e-01 1.29210953e-01\n",
            " 1.11915489e-01 1.09193933e-01 9.89042547e-02 9.13694899e-02\n",
            " 7.87185581e-02 7.25158481e-02 6.48432736e-02 5.31274283e-02\n",
            " 5.04479331e-02 4.99029942e-02 4.74525419e-02 4.32313713e-02\n",
            " 3.88607379e-02 3.77887749e-02 3.40064731e-02 2.84304056e-02\n",
            " 2.73270119e-02 2.46663043e-02 2.22893867e-02 2.08598301e-02\n",
            " 1.85420666e-02 1.72006452e-02 1.66119416e-02 1.41281604e-02\n",
            " 1.23278162e-02 1.00087154e-02 8.43175250e-03 7.40307912e-03\n",
            " 6.16322309e-03 5.55201413e-03 4.73465077e-03 4.32868455e-03\n",
            " 3.91014288e-03 3.68569813e-03 2.99806844e-03 2.52362151e-03\n",
            " 3.40135038e-04]\n",
            "\n",
            "D :  [1.58503920e+01 9.28391303e+00 8.04202243e+00 7.15965947e+00\n",
            " 5.79900599e+00 5.11891111e+00 4.47509373e+00 4.21216525e+00\n",
            " 3.56690709e+00 3.21217771e+00 3.07685521e+00 2.84037659e+00\n",
            " 2.46017948e+00 2.40035295e+00 2.17416035e+00 2.00852757e+00\n",
            " 1.73042877e+00 1.59407785e+00 1.42541567e+00 1.16787239e+00\n",
            " 1.10897045e+00 1.09699134e+00 1.04312434e+00 9.50332556e-01\n",
            " 8.54255215e-01 8.30690815e-01 7.47546458e-01 6.24970692e-01\n",
            " 6.00715367e-01 5.42226428e-01 4.89975894e-01 4.58550703e-01\n",
            " 4.07600523e-01 3.78112761e-01 3.65171598e-01 3.10571939e-01\n",
            " 2.70995917e-01 2.20016340e-01 1.85350792e-01 1.62738005e-01\n",
            " 1.35482900e-01 1.22047014e-01 1.04079344e-01 9.51552017e-02\n",
            " 8.59546196e-02 8.10207686e-02 6.59049657e-02 5.54754477e-02\n",
            " 7.47701010e-03]\n",
            "Max(s) :  0.7210467284102224\n",
            "Min(s) :  0.00034013503758517687\n",
            "Max(D) :  15.85039197351821\n",
            "Min(D) :  0.007477010098276412\n"
          ]
        }
      ]
    },
    {
      "cell_type": "code",
      "source": [
        "fig = plt.subplots(1,figsize=(10,6))\n",
        "plt.subplot(211)\n",
        "plt.xlabel('Number of components')\n",
        "plt.ylabel('Singular values (S)')\n",
        "plt.title('Scree plot')\n",
        "\n",
        "plt.plot(D,'o')\n",
        "plt.legend('Singular values')"
      ],
      "metadata": {
        "colab": {
          "base_uri": "https://localhost:8080/",
          "height": 243
        },
        "id": "52u0-g8sclTZ",
        "outputId": "87f7e3bc-3749-4fa4-f537-cb9c86f65b25"
      },
      "execution_count": 27,
      "outputs": [
        {
          "output_type": "execute_result",
          "data": {
            "text/plain": [
              "<matplotlib.legend.Legend at 0x7f3b574b9ca0>"
            ]
          },
          "metadata": {},
          "execution_count": 27
        },
        {
          "output_type": "display_data",
          "data": {
            "text/plain": [
              "<Figure size 720x432 with 1 Axes>"
            ],
            "image/png": "[encoded data removed]"
          },
          "metadata": {
            "needs_background": "light"
          }
        }
      ]
    },
    {
      "cell_type": "code",
      "source": [
        "# Considering the elbow point to be 8 from the scree plot\n"
      ],
      "metadata": {
        "id": "qExbFCvbcqPR"
      },
      "execution_count": null,
      "outputs": []
    },
    {
      "cell_type": "code",
      "source": [
        "X_10pcs = (X_centered @ vt[:10].T).rename(columns = {0: 'pc1', 1: 'pc2',2: 'pc3',3: 'pc4',4: 'pc5',5: 'pc6', 6:'pc7', 7:'pc8',8:'pc9',9:'pc10'})\n",
        "X_10pcs"
      ],
      "metadata": {
        "colab": {
          "base_uri": "https://localhost:8080/",
          "height": 423
        },
        "id": "mILMMkI8ctjO",
        "outputId": "332c7676-32a1-47a6-e96b-dc555eb7133a"
      },
      "execution_count": 28,
      "outputs": [
        {
          "output_type": "execute_result",
          "data": {
            "text/plain": [
              "          pc1       pc2       pc3       pc4       pc5       pc6       pc7  \\\n",
              "0    0.162442 -0.629973 -1.146861  0.000550  0.439264 -0.400459 -0.054846   \n",
              "1    0.825106 -0.256468 -1.117247  0.087155 -0.864338 -0.167709 -0.558583   \n",
              "2    0.182621 -0.329224  0.667420  0.629155  0.059692 -0.511092  0.563964   \n",
              "3    0.907619 -1.028135  0.337259  0.715361  0.185362 -0.465693 -0.240251   \n",
              "4    0.707936 -0.185357  0.140857  1.190873  0.365239 -0.321138  0.489991   \n",
              "..        ...       ...       ...       ...       ...       ...       ...   \n",
              "199  0.570544  0.513244 -1.136806 -0.532396 -1.260209  0.330673 -0.015739   \n",
              "200  0.433362 -0.383604  0.326540 -0.671616  0.162891 -0.315232 -0.090635   \n",
              "201  0.262183 -0.107736  0.306222 -0.356813  0.763042 -0.417377  0.243509   \n",
              "202 -0.336368 -1.064904  0.823925 -0.382916 -0.910626  0.007617  0.318735   \n",
              "203  1.885794  0.062281  1.009571 -0.349081 -0.552051  0.111709 -0.453940   \n",
              "\n",
              "          pc8       pc9      pc10  \n",
              "0   -0.223027  0.341841  0.137175  \n",
              "1   -0.122507 -0.442626  0.317589  \n",
              "2   -0.386887 -0.979362  0.544750  \n",
              "3   -0.450746  0.139717 -0.423258  \n",
              "4    0.635936 -0.669928 -0.014346  \n",
              "..        ...       ...       ...  \n",
              "199 -0.435035  0.588540  0.307933  \n",
              "200  0.644356  0.617257  0.764449  \n",
              "201  0.683984  0.321821 -0.039108  \n",
              "202 -0.258442  0.217745 -0.253567  \n",
              "203  0.081551 -0.342145 -0.124475  \n",
              "\n",
              "[204 rows x 10 columns]"
            ],
            "text/html": [
              "\n",
              "  <div id=\"df-2437380c-26c6-4306-ac68-69f51e555958\">\n",
              "    <div class=\"colab-df-container\">\n",
              "      <div>\n",
              "<style scoped>\n",
              "    .dataframe tbody tr th:only-of-type {\n",
              "        vertical-align: middle;\n",
              "    }\n",
              "\n",
              "    .dataframe tbody tr th {\n",
              "        vertical-align: top;\n",
              "    }\n",
              "\n",
              "    .dataframe thead th {\n",
              "        text-align: right;\n",
              "    }\n",
              "</style>\n",
              "<table border=\"1\" class=\"dataframe\">\n",
              "  <thead>\n",
              "    <tr style=\"text-align: right;\">\n",
              "      <th></th>\n",
              "      <th>pc1</th>\n",
              "      <th>pc2</th>\n",
              "      <th>pc3</th>\n",
              "      <th>pc4</th>\n",
              "      <th>pc5</th>\n",
              "      <th>pc6</th>\n",
              "      <th>pc7</th>\n",
              "      <th>pc8</th>\n",
              "      <th>pc9</th>\n",
              "      <th>pc10</th>\n",
              "    </tr>\n",
              "  </thead>\n",
              "  <tbody>\n",
              "    <tr>\n",
              "      <th>0</th>\n",
              "      <td>0.162442</td>\n",
              "      <td>-0.629973</td>\n",
              "      <td>-1.146861</td>\n",
              "      <td>0.000550</td>\n",
              "      <td>0.439264</td>\n",
              "      <td>-0.400459</td>\n",
              "      <td>-0.054846</td>\n",
              "      <td>-0.223027</td>\n",
              "      <td>0.341841</td>\n",
              "      <td>0.137175</td>\n",
              "    </tr>\n",
              "    <tr>\n",
              "      <th>1</th>\n",
              "      <td>0.825106</td>\n",
              "      <td>-0.256468</td>\n",
              "      <td>-1.117247</td>\n",
              "      <td>0.087155</td>\n",
              "      <td>-0.864338</td>\n",
              "      <td>-0.167709</td>\n",
              "      <td>-0.558583</td>\n",
              "      <td>-0.122507</td>\n",
              "      <td>-0.442626</td>\n",
              "      <td>0.317589</td>\n",
              "    </tr>\n",
              "    <tr>\n",
              "      <th>2</th>\n",
              "      <td>0.182621</td>\n",
              "      <td>-0.329224</td>\n",
              "      <td>0.667420</td>\n",
              "      <td>0.629155</td>\n",
              "      <td>0.059692</td>\n",
              "      <td>-0.511092</td>\n",
              "      <td>0.563964</td>\n",
              "      <td>-0.386887</td>\n",
              "      <td>-0.979362</td>\n",
              "      <td>0.544750</td>\n",
              "    </tr>\n",
              "    <tr>\n",
              "      <th>3</th>\n",
              "      <td>0.907619</td>\n",
              "      <td>-1.028135</td>\n",
              "      <td>0.337259</td>\n",
              "      <td>0.715361</td>\n",
              "      <td>0.185362</td>\n",
              "      <td>-0.465693</td>\n",
              "      <td>-0.240251</td>\n",
              "      <td>-0.450746</td>\n",
              "      <td>0.139717</td>\n",
              "      <td>-0.423258</td>\n",
              "    </tr>\n",
              "    <tr>\n",
              "      <th>4</th>\n",
              "      <td>0.707936</td>\n",
              "      <td>-0.185357</td>\n",
              "      <td>0.140857</td>\n",
              "      <td>1.190873</td>\n",
              "      <td>0.365239</td>\n",
              "      <td>-0.321138</td>\n",
              "      <td>0.489991</td>\n",
              "      <td>0.635936</td>\n",
              "      <td>-0.669928</td>\n",
              "      <td>-0.014346</td>\n",
              "    </tr>\n",
              "    <tr>\n",
              "      <th>...</th>\n",
              "      <td>...</td>\n",
              "      <td>...</td>\n",
              "      <td>...</td>\n",
              "      <td>...</td>\n",
              "      <td>...</td>\n",
              "      <td>...</td>\n",
              "      <td>...</td>\n",
              "      <td>...</td>\n",
              "      <td>...</td>\n",
              "      <td>...</td>\n",
              "    </tr>\n",
              "    <tr>\n",
              "      <th>199</th>\n",
              "      <td>0.570544</td>\n",
              "      <td>0.513244</td>\n",
              "      <td>-1.136806</td>\n",
              "      <td>-0.532396</td>\n",
              "      <td>-1.260209</td>\n",
              "      <td>0.330673</td>\n",
              "      <td>-0.015739</td>\n",
              "      <td>-0.435035</td>\n",
              "      <td>0.588540</td>\n",
              "      <td>0.307933</td>\n",
              "    </tr>\n",
              "    <tr>\n",
              "      <th>200</th>\n",
              "      <td>0.433362</td>\n",
              "      <td>-0.383604</td>\n",
              "      <td>0.326540</td>\n",
              "      <td>-0.671616</td>\n",
              "      <td>0.162891</td>\n",
              "      <td>-0.315232</td>\n",
              "      <td>-0.090635</td>\n",
              "      <td>0.644356</td>\n",
              "      <td>0.617257</td>\n",
              "      <td>0.764449</td>\n",
              "    </tr>\n",
              "    <tr>\n",
              "      <th>201</th>\n",
              "      <td>0.262183</td>\n",
              "      <td>-0.107736</td>\n",
              "      <td>0.306222</td>\n",
              "      <td>-0.356813</td>\n",
              "      <td>0.763042</td>\n",
              "      <td>-0.417377</td>\n",
              "      <td>0.243509</td>\n",
              "      <td>0.683984</td>\n",
              "      <td>0.321821</td>\n",
              "      <td>-0.039108</td>\n",
              "    </tr>\n",
              "    <tr>\n",
              "      <th>202</th>\n",
              "      <td>-0.336368</td>\n",
              "      <td>-1.064904</td>\n",
              "      <td>0.823925</td>\n",
              "      <td>-0.382916</td>\n",
              "      <td>-0.910626</td>\n",
              "      <td>0.007617</td>\n",
              "      <td>0.318735</td>\n",
              "      <td>-0.258442</td>\n",
              "      <td>0.217745</td>\n",
              "      <td>-0.253567</td>\n",
              "    </tr>\n",
              "    <tr>\n",
              "      <th>203</th>\n",
              "      <td>1.885794</td>\n",
              "      <td>0.062281</td>\n",
              "      <td>1.009571</td>\n",
              "      <td>-0.349081</td>\n",
              "      <td>-0.552051</td>\n",
              "      <td>0.111709</td>\n",
              "      <td>-0.453940</td>\n",
              "      <td>0.081551</td>\n",
              "      <td>-0.342145</td>\n",
              "      <td>-0.124475</td>\n",
              "    </tr>\n",
              "  </tbody>\n",
              "</table>\n",
              "<p>204 rows × 10 columns</p>\n",
              "</div>\n",
              "      <button class=\"colab-df-convert\" onclick=\"convertToInteractive('df-2437380c-26c6-4306-ac68-69f51e555958')\"\n",
              "              title=\"Convert this dataframe to an interactive table.\"\n",
              "              style=\"display:none;\">\n",
              "        \n",
              "  <svg xmlns=\"http://www.w3.org/2000/svg\" height=\"24px\"viewBox=\"0 0 24 24\"\n",
              "       width=\"24px\">\n",
              "    <path d=\"M0 0h24v24H0V0z\" fill=\"none\"/>\n",
              "    <path d=\"M18.56 5.44l.94 2.06.94-2.06 2.06-.94-2.06-.94-.94-2.06-.94 2.06-2.06.94zm-11 1L8.5 8.5l.94-2.06 2.06-.94-2.06-.94L8.5 2.5l-.94 2.06-2.06.94zm10 10l.94 2.06.94-2.06 2.06-.94-2.06-.94-.94-2.06-.94 2.06-2.06.94z\"/><path d=\"M17.41 7.96l-1.37-1.37c-.4-.4-.92-.59-1.43-.59-.52 0-1.04.2-1.43.59L10.3 9.45l-7.72 7.72c-.78.78-.78 2.05 0 2.83L4 21.41c.39.39.9.59 1.41.59.51 0 1.02-.2 1.41-.59l7.78-7.78 2.81-2.81c.8-.78.8-2.07 0-2.86zM5.41 20L4 18.59l7.72-7.72 1.47 1.35L5.41 20z\"/>\n",
              "  </svg>\n",
              "      </button>\n",
              "      \n",
              "  <style>\n",
              "    .colab-df-container {\n",
              "      display:flex;\n",
              "      flex-wrap:wrap;\n",
              "      gap: 12px;\n",
              "    }\n",
              "\n",
              "    .colab-df-convert {\n",
              "      background-color: #E8F0FE;\n",
              "      border: none;\n",
              "      border-radius: 50%;\n",
              "      cursor: pointer;\n",
              "      display: none;\n",
              "      fill: #1967D2;\n",
              "      height: 32px;\n",
              "      padding: 0 0 0 0;\n",
              "      width: 32px;\n",
              "    }\n",
              "\n",
              "    .colab-df-convert:hover {\n",
              "      background-color: #E2EBFA;\n",
              "      box-shadow: 0px 1px 2px rgba(60, 64, 67, 0.3), 0px 1px 3px 1px rgba(60, 64, 67, 0.15);\n",
              "      fill: #174EA6;\n",
              "    }\n",
              "\n",
              "    [theme=dark] .colab-df-convert {\n",
              "      background-color: #3B4455;\n",
              "      fill: #D2E3FC;\n",
              "    }\n",
              "\n",
              "    [theme=dark] .colab-df-convert:hover {\n",
              "      background-color: #434B5C;\n",
              "      box-shadow: 0px 1px 3px 1px rgba(0, 0, 0, 0.15);\n",
              "      filter: drop-shadow(0px 1px 2px rgba(0, 0, 0, 0.3));\n",
              "      fill: #FFFFFF;\n",
              "    }\n",
              "  </style>\n",
              "\n",
              "      <script>\n",
              "        const buttonEl =\n",
              "          document.querySelector('#df-2437380c-26c6-4306-ac68-69f51e555958 button.colab-df-convert');\n",
              "        buttonEl.style.display =\n",
              "          google.colab.kernel.accessAllowed ? 'block' : 'none';\n",
              "\n",
              "        async function convertToInteractive(key) {\n",
              "          const element = document.querySelector('#df-2437380c-26c6-4306-ac68-69f51e555958');\n",
              "          const dataTable =\n",
              "            await google.colab.kernel.invokeFunction('convertToInteractive',\n",
              "                                                     [key], {});\n",
              "          if (!dataTable) return;\n",
              "\n",
              "          const docLinkHtml = 'Like what you see? Visit the ' +\n",
              "            '<a target=\"_blank\" href=https://colab.research.google.com/notebooks/data_table.ipynb>data table notebook</a>'\n",
              "            + ' to learn more about interactive tables.';\n",
              "          element.innerHTML = '';\n",
              "          dataTable['output_type'] = 'display_data';\n",
              "          await google.colab.output.renderOutput(dataTable, element);\n",
              "          const docLink = document.createElement('div');\n",
              "          docLink.innerHTML = docLinkHtml;\n",
              "          element.appendChild(docLink);\n",
              "        }\n",
              "      </script>\n",
              "    </div>\n",
              "  </div>\n",
              "  "
            ]
          },
          "metadata": {},
          "execution_count": 28
        }
      ]
    },
    {
      "cell_type": "markdown",
      "source": [
        " 'X_10pcs' is the new reduced set of features\n"
      ],
      "metadata": {
        "id": "0kzyc4Xgc0L1"
      }
    },
    {
      "cell_type": "markdown",
      "source": [
        "\n",
        "\n",
        "SVM on the dataset\n",
        "Before dimensionality reduction"
      ],
      "metadata": {
        "id": "oc-Ht5S5c-v7"
      }
    },
    {
      "cell_type": "code",
      "source": [
        "X_train, X_test, y_train, y_test = train_test_split(X, y, test_size=0.2, random_state=0)\n"
      ],
      "metadata": {
        "id": "UnShyOcOcxM1"
      },
      "execution_count": 29,
      "outputs": []
    },
    {
      "cell_type": "code",
      "source": [
        "from datetime import datetime\n",
        "start_time = datetime.now()\n",
        "\n",
        "#Create a svm Classifier\n",
        "clf = svm.SVC(C=15,kernel='rbf') # Polynomial Kernel\n",
        "\n",
        "#Train the model using the training sets\n",
        "clf.fit(X_train, y_train)\n",
        "\n",
        "#Predict the response for test dataset\n",
        "y_pred = clf.predict(X_test)\n",
        "\n",
        "end_time = datetime.now()\n",
        "print('Duration: {}'.format(end_time - start_time))"
      ],
      "metadata": {
        "colab": {
          "base_uri": "https://localhost:8080/"
        },
        "id": "YYXFpo1qy1h-",
        "outputId": "12758324-4000-4792-c896-45253f0e46c7"
      },
      "execution_count": 30,
      "outputs": [
        {
          "output_type": "stream",
          "name": "stdout",
          "text": [
            "Duration: 0:00:00.014036\n"
          ]
        }
      ]
    },
    {
      "cell_type": "code",
      "source": [
        "from sklearn.datasets import make_classification\n",
        "from sklearn.metrics import accuracy_score, f1_score, precision_score, recall_score, classification_report, confusion_matrix,ConfusionMatrixDisplay\n",
        "\n",
        "print(\"f1 score : \",f1_score(y_test, y_pred, average=\"macro\"))\n",
        "print(\"precision : \",precision_score(y_test, y_pred, average=\"macro\"))\n",
        "print(\"recall : \",recall_score(y_test, y_pred, average=\"macro\"))  \n",
        "print(\"accuracy:\",accuracy_score(y_test, y_pred))"
      ],
      "metadata": {
        "colab": {
          "base_uri": "https://localhost:8080/"
        },
        "id": "AfynYnwb21Cm",
        "outputId": "889c86ed-30a5-49fc-effa-e9290852e686"
      },
      "execution_count": 31,
      "outputs": [
        {
          "output_type": "stream",
          "name": "stdout",
          "text": [
            "f1 score :  0.8528708133971292\n",
            "precision :  0.857487922705314\n",
            "recall :  0.8523809523809525\n",
            "accuracy: 0.8536585365853658\n"
          ]
        }
      ]
    },
    {
      "cell_type": "markdown",
      "source": [
        "After dimensionality Reduction (PCA-SVM)\n"
      ],
      "metadata": {
        "id": "t-IKVfa96tep"
      }
    },
    {
      "cell_type": "code",
      "source": [
        "X_train, X_test, y_train, y_test = train_test_split(X_10pcs, y, test_size=0.2, random_state=0)\n"
      ],
      "metadata": {
        "id": "r8H8BYyH6ivo"
      },
      "execution_count": 32,
      "outputs": []
    },
    {
      "cell_type": "code",
      "source": [
        "start_time = datetime.now()\n",
        "\n",
        "#Create a svm Classifier\n",
        "clf = svm.SVC(C=8,kernel='poly') # Polynomial Kernel\n",
        "\n",
        "#Train the model using the training sets\n",
        "clf.fit(X_train, y_train)\n",
        "\n",
        "#Predict the response for test dataset\n",
        "y_pred_pca = clf.predict(X_test)\n",
        "\n",
        "end_time = datetime.now()\n",
        "print('Duration: {}'.format(end_time - start_time))"
      ],
      "metadata": {
        "colab": {
          "base_uri": "https://localhost:8080/"
        },
        "id": "ZKuRA2GI60aX",
        "outputId": "d524af77-2226-4c6e-8bde-b7b9e4f9a339"
      },
      "execution_count": 33,
      "outputs": [
        {
          "output_type": "stream",
          "name": "stdout",
          "text": [
            "Duration: 0:00:00.014642\n"
          ]
        }
      ]
    },
    {
      "cell_type": "code",
      "source": [
        "print(\"f1 score : \",f1_score(y_test, y_pred_pca, average=\"macro\"))\n",
        "print(\"precision : \",precision_score(y_test, y_pred_pca, average=\"macro\"))\n",
        "print(\"recall : \",recall_score(y_test, y_pred_pca, average=\"macro\"))  \n",
        "print(\"accuracy:\",accuracy_score(y_test, y_pred_pca))"
      ],
      "metadata": {
        "colab": {
          "base_uri": "https://localhost:8080/"
        },
        "id": "ljOgWBPA65Ey",
        "outputId": "f5b6e5ac-7818-40c3-f0db-56d5a000f9eb"
      },
      "execution_count": 34,
      "outputs": [
        {
          "output_type": "stream",
          "name": "stdout",
          "text": [
            "f1 score :  0.7317073170731706\n",
            "precision :  0.7321428571428572\n",
            "recall :  0.7321428571428572\n",
            "accuracy: 0.7317073170731707\n"
          ]
        }
      ]
    },
    {
      "cell_type": "code",
      "source": [
        "from sklearn import metrics\n",
        "auc = metrics.roc_auc_score(y_test, y_pred_pca)\n",
        "\n",
        "false_positive_rate, true_positive_rate, thresolds = metrics.roc_curve(y_test, y_pred_pca)\n",
        "\n",
        "plt.figure(figsize=(6, 6), dpi=100)\n",
        "plt.axis('scaled')\n",
        "plt.xlim([0, 1])\n",
        "plt.ylim([0, 1])\n",
        "plt.title(\"AUC & ROC Curve\")\n",
        "plt.plot(false_positive_rate, true_positive_rate,'--' )\n",
        "plt.fill_between(false_positive_rate, true_positive_rate, facecolor='lightblue', alpha=0.7)\n",
        "plt.text(0.95, 0.05, 'AUC = %0.4f' % auc, ha='right', fontsize=12, weight='bold', color='blue')\n",
        "plt.xlabel(\"False Positive Rate\")\n",
        "plt.ylabel(\"True Positive Rate\")\n",
        "plt.show()"
      ],
      "metadata": {
        "colab": {
          "base_uri": "https://localhost:8080/",
          "height": 555
        },
        "id": "PN5gaYEb69WO",
        "outputId": "7b3d6738-1842-407d-8d20-3d0f9c8b3bef"
      },
      "execution_count": 35,
      "outputs": [
        {
          "output_type": "display_data",
          "data": {
            "text/plain": [
              "<Figure size 600x600 with 1 Axes>"
            ],
            "image/png": "[encoded data removed]"
          },
          "metadata": {
            "needs_background": "light"
          }
        }
      ]
    },
    {
      "cell_type": "markdown",
      "source": [
        "SVM after PCA - GRIDSEARCH CV\n"
      ],
      "metadata": {
        "id": "9SFrV_h87MBB"
      }
    },
    {
      "cell_type": "code",
      "source": [
        "from sklearn.svm import SVC\n",
        "model = SVC()\n",
        "from sklearn.model_selection import GridSearchCV\n",
        "  \n",
        "# defining parameter range\n",
        "param_grid = {'C': [0.1, 1,10, 15,25], \n",
        "              'gamma': [1, 0.1, 0.01, 0.001, 0.0001],\n",
        "              'kernel': ['rbf']} \n",
        "  \n",
        "grid = GridSearchCV(SVC(), param_grid, refit = True, verbose = 3)\n",
        "  \n",
        "# fitting the model for grid search\n",
        "grid.fit(X_train, y_train)"
      ],
      "metadata": {
        "colab": {
          "base_uri": "https://localhost:8080/"
        },
        "id": "PQ1hIRmH7HaP",
        "outputId": "fd6424fd-948b-4c44-d3fd-77acfc6ae6fd"
      },
      "execution_count": 36,
      "outputs": [
        {
          "output_type": "stream",
          "name": "stdout",
          "text": [
            "Fitting 5 folds for each of 25 candidates, totalling 125 fits\n",
            "[CV 1/5] END ........C=0.1, gamma=1, kernel=rbf;, score=0.485 total time=   0.0s\n",
            "[CV 2/5] END ........C=0.1, gamma=1, kernel=rbf;, score=0.758 total time=   0.0s\n",
            "[CV 3/5] END ........C=0.1, gamma=1, kernel=rbf;, score=0.727 total time=   0.0s\n",
            "[CV 4/5] END ........C=0.1, gamma=1, kernel=rbf;, score=0.500 total time=   0.0s\n",
            "[CV 5/5] END ........C=0.1, gamma=1, kernel=rbf;, score=0.500 total time=   0.0s\n",
            "[CV 1/5] END ......C=0.1, gamma=0.1, kernel=rbf;, score=0.485 total time=   0.0s\n",
            "[CV 2/5] END ......C=0.1, gamma=0.1, kernel=rbf;, score=0.727 total time=   0.0s\n",
            "[CV 3/5] END ......C=0.1, gamma=0.1, kernel=rbf;, score=0.727 total time=   0.0s\n",
            "[CV 4/5] END ......C=0.1, gamma=0.1, kernel=rbf;, score=0.500 total time=   0.0s\n",
            "[CV 5/5] END ......C=0.1, gamma=0.1, kernel=rbf;, score=0.500 total time=   0.0s\n",
            "[CV 1/5] END .....C=0.1, gamma=0.01, kernel=rbf;, score=0.485 total time=   0.0s\n",
            "[CV 2/5] END .....C=0.1, gamma=0.01, kernel=rbf;, score=0.727 total time=   0.0s\n",
            "[CV 3/5] END .....C=0.1, gamma=0.01, kernel=rbf;, score=0.758 total time=   0.0s\n",
            "[CV 4/5] END .....C=0.1, gamma=0.01, kernel=rbf;, score=0.500 total time=   0.0s\n",
            "[CV 5/5] END .....C=0.1, gamma=0.01, kernel=rbf;, score=0.500 total time=   0.0s\n",
            "[CV 1/5] END ....C=0.1, gamma=0.001, kernel=rbf;, score=0.485 total time=   0.0s\n",
            "[CV 2/5] END ....C=0.1, gamma=0.001, kernel=rbf;, score=0.758 total time=   0.0s\n",
            "[CV 3/5] END ....C=0.1, gamma=0.001, kernel=rbf;, score=0.758 total time=   0.0s\n",
            "[CV 4/5] END ....C=0.1, gamma=0.001, kernel=rbf;, score=0.500 total time=   0.0s\n",
            "[CV 5/5] END ....C=0.1, gamma=0.001, kernel=rbf;, score=0.500 total time=   0.0s\n",
            "[CV 1/5] END ...C=0.1, gamma=0.0001, kernel=rbf;, score=0.485 total time=   0.0s\n",
            "[CV 2/5] END ...C=0.1, gamma=0.0001, kernel=rbf;, score=0.758 total time=   0.0s\n",
            "[CV 3/5] END ...C=0.1, gamma=0.0001, kernel=rbf;, score=0.758 total time=   0.0s\n",
            "[CV 4/5] END ...C=0.1, gamma=0.0001, kernel=rbf;, score=0.500 total time=   0.0s\n",
            "[CV 5/5] END ...C=0.1, gamma=0.0001, kernel=rbf;, score=0.500 total time=   0.0s\n",
            "[CV 1/5] END ..........C=1, gamma=1, kernel=rbf;, score=0.788 total time=   0.0s\n",
            "[CV 2/5] END ..........C=1, gamma=1, kernel=rbf;, score=0.667 total time=   0.0s\n",
            "[CV 3/5] END ..........C=1, gamma=1, kernel=rbf;, score=0.727 total time=   0.0s\n",
            "[CV 4/5] END ..........C=1, gamma=1, kernel=rbf;, score=0.750 total time=   0.0s\n",
            "[CV 5/5] END ..........C=1, gamma=1, kernel=rbf;, score=0.875 total time=   0.0s\n",
            "[CV 1/5] END ........C=1, gamma=0.1, kernel=rbf;, score=0.818 total time=   0.0s\n",
            "[CV 2/5] END ........C=1, gamma=0.1, kernel=rbf;, score=0.848 total time=   0.0s\n",
            "[CV 3/5] END ........C=1, gamma=0.1, kernel=rbf;, score=0.727 total time=   0.0s\n",
            "[CV 4/5] END ........C=1, gamma=0.1, kernel=rbf;, score=0.688 total time=   0.0s\n",
            "[CV 5/5] END ........C=1, gamma=0.1, kernel=rbf;, score=0.781 total time=   0.0s\n",
            "[CV 1/5] END .......C=1, gamma=0.01, kernel=rbf;, score=0.576 total time=   0.0s\n",
            "[CV 2/5] END .......C=1, gamma=0.01, kernel=rbf;, score=0.727 total time=   0.0s\n",
            "[CV 3/5] END .......C=1, gamma=0.01, kernel=rbf;, score=0.758 total time=   0.0s\n",
            "[CV 4/5] END .......C=1, gamma=0.01, kernel=rbf;, score=0.594 total time=   0.0s\n",
            "[CV 5/5] END .......C=1, gamma=0.01, kernel=rbf;, score=0.719 total time=   0.0s\n",
            "[CV 1/5] END ......C=1, gamma=0.001, kernel=rbf;, score=0.485 total time=   0.0s\n",
            "[CV 2/5] END ......C=1, gamma=0.001, kernel=rbf;, score=0.758 total time=   0.0s\n",
            "[CV 3/5] END ......C=1, gamma=0.001, kernel=rbf;, score=0.758 total time=   0.0s\n",
            "[CV 4/5] END ......C=1, gamma=0.001, kernel=rbf;, score=0.500 total time=   0.0s\n",
            "[CV 5/5] END ......C=1, gamma=0.001, kernel=rbf;, score=0.500 total time=   0.0s\n",
            "[CV 1/5] END .....C=1, gamma=0.0001, kernel=rbf;, score=0.485 total time=   0.0s\n",
            "[CV 2/5] END .....C=1, gamma=0.0001, kernel=rbf;, score=0.758 total time=   0.0s\n",
            "[CV 3/5] END .....C=1, gamma=0.0001, kernel=rbf;, score=0.758 total time=   0.0s\n",
            "[CV 4/5] END .....C=1, gamma=0.0001, kernel=rbf;, score=0.500 total time=   0.0s\n",
            "[CV 5/5] END .....C=1, gamma=0.0001, kernel=rbf;, score=0.500 total time=   0.0s\n",
            "[CV 1/5] END .........C=10, gamma=1, kernel=rbf;, score=0.727 total time=   0.0s\n",
            "[CV 2/5] END .........C=10, gamma=1, kernel=rbf;, score=0.636 total time=   0.0s\n",
            "[CV 3/5] END .........C=10, gamma=1, kernel=rbf;, score=0.727 total time=   0.0s\n",
            "[CV 4/5] END .........C=10, gamma=1, kernel=rbf;, score=0.781 total time=   0.0s\n",
            "[CV 5/5] END .........C=10, gamma=1, kernel=rbf;, score=0.781 total time=   0.0s\n",
            "[CV 1/5] END .......C=10, gamma=0.1, kernel=rbf;, score=0.848 total time=   0.0s\n",
            "[CV 2/5] END .......C=10, gamma=0.1, kernel=rbf;, score=0.818 total time=   0.0s\n",
            "[CV 3/5] END .......C=10, gamma=0.1, kernel=rbf;, score=0.848 total time=   0.0s\n",
            "[CV 4/5] END .......C=10, gamma=0.1, kernel=rbf;, score=0.719 total time=   0.0s\n",
            "[CV 5/5] END .......C=10, gamma=0.1, kernel=rbf;, score=0.812 total time=   0.0s\n",
            "[CV 1/5] END ......C=10, gamma=0.01, kernel=rbf;, score=0.788 total time=   0.0s\n",
            "[CV 2/5] END ......C=10, gamma=0.01, kernel=rbf;, score=0.848 total time=   0.0s\n",
            "[CV 3/5] END ......C=10, gamma=0.01, kernel=rbf;, score=0.758 total time=   0.0s\n",
            "[CV 4/5] END ......C=10, gamma=0.01, kernel=rbf;, score=0.625 total time=   0.0s\n",
            "[CV 5/5] END ......C=10, gamma=0.01, kernel=rbf;, score=0.719 total time=   0.0s\n",
            "[CV 1/5] END .....C=10, gamma=0.001, kernel=rbf;, score=0.576 total time=   0.0s\n",
            "[CV 2/5] END .....C=10, gamma=0.001, kernel=rbf;, score=0.758 total time=   0.0s\n",
            "[CV 3/5] END .....C=10, gamma=0.001, kernel=rbf;, score=0.758 total time=   0.0s\n",
            "[CV 4/5] END .....C=10, gamma=0.001, kernel=rbf;, score=0.594 total time=   0.0s\n",
            "[CV 5/5] END .....C=10, gamma=0.001, kernel=rbf;, score=0.750 total time=   0.0s\n",
            "[CV 1/5] END ....C=10, gamma=0.0001, kernel=rbf;, score=0.485 total time=   0.0s\n",
            "[CV 2/5] END ....C=10, gamma=0.0001, kernel=rbf;, score=0.758 total time=   0.0s\n",
            "[CV 3/5] END ....C=10, gamma=0.0001, kernel=rbf;, score=0.758 total time=   0.0s\n",
            "[CV 4/5] END ....C=10, gamma=0.0001, kernel=rbf;, score=0.500 total time=   0.0s\n",
            "[CV 5/5] END ....C=10, gamma=0.0001, kernel=rbf;, score=0.500 total time=   0.0s\n",
            "[CV 1/5] END .........C=15, gamma=1, kernel=rbf;, score=0.727 total time=   0.0s\n",
            "[CV 2/5] END .........C=15, gamma=1, kernel=rbf;, score=0.636 total time=   0.0s\n",
            "[CV 3/5] END .........C=15, gamma=1, kernel=rbf;, score=0.727 total time=   0.0s\n",
            "[CV 4/5] END .........C=15, gamma=1, kernel=rbf;, score=0.781 total time=   0.0s\n",
            "[CV 5/5] END .........C=15, gamma=1, kernel=rbf;, score=0.781 total time=   0.0s\n",
            "[CV 1/5] END .......C=15, gamma=0.1, kernel=rbf;, score=0.818 total time=   0.0s\n",
            "[CV 2/5] END .......C=15, gamma=0.1, kernel=rbf;, score=0.848 total time=   0.0s\n",
            "[CV 3/5] END .......C=15, gamma=0.1, kernel=rbf;, score=0.848 total time=   0.0s\n",
            "[CV 4/5] END .......C=15, gamma=0.1, kernel=rbf;, score=0.750 total time=   0.0s\n",
            "[CV 5/5] END .......C=15, gamma=0.1, kernel=rbf;, score=0.844 total time=   0.0s\n",
            "[CV 1/5] END ......C=15, gamma=0.01, kernel=rbf;, score=0.758 total time=   0.0s\n",
            "[CV 2/5] END ......C=15, gamma=0.01, kernel=rbf;, score=0.848 total time=   0.0s\n",
            "[CV 3/5] END ......C=15, gamma=0.01, kernel=rbf;, score=0.788 total time=   0.0s\n",
            "[CV 4/5] END ......C=15, gamma=0.01, kernel=rbf;, score=0.656 total time=   0.0s\n",
            "[CV 5/5] END ......C=15, gamma=0.01, kernel=rbf;, score=0.688 total time=   0.0s\n",
            "[CV 1/5] END .....C=15, gamma=0.001, kernel=rbf;, score=0.818 total time=   0.0s\n",
            "[CV 2/5] END .....C=15, gamma=0.001, kernel=rbf;, score=0.818 total time=   0.0s\n",
            "[CV 3/5] END .....C=15, gamma=0.001, kernel=rbf;, score=0.697 total time=   0.0s\n",
            "[CV 4/5] END .....C=15, gamma=0.001, kernel=rbf;, score=0.594 total time=   0.0s\n",
            "[CV 5/5] END .....C=15, gamma=0.001, kernel=rbf;, score=0.688 total time=   0.0s\n",
            "[CV 1/5] END ....C=15, gamma=0.0001, kernel=rbf;, score=0.485 total time=   0.0s\n",
            "[CV 2/5] END ....C=15, gamma=0.0001, kernel=rbf;, score=0.758 total time=   0.0s\n",
            "[CV 3/5] END ....C=15, gamma=0.0001, kernel=rbf;, score=0.758 total time=   0.0s\n",
            "[CV 4/5] END ....C=15, gamma=0.0001, kernel=rbf;, score=0.500 total time=   0.0s\n",
            "[CV 5/5] END ....C=15, gamma=0.0001, kernel=rbf;, score=0.500 total time=   0.0s\n",
            "[CV 1/5] END .........C=25, gamma=1, kernel=rbf;, score=0.727 total time=   0.0s\n",
            "[CV 2/5] END .........C=25, gamma=1, kernel=rbf;, score=0.636 total time=   0.0s\n",
            "[CV 3/5] END .........C=25, gamma=1, kernel=rbf;, score=0.727 total time=   0.0s\n",
            "[CV 4/5] END .........C=25, gamma=1, kernel=rbf;, score=0.781 total time=   0.0s\n",
            "[CV 5/5] END .........C=25, gamma=1, kernel=rbf;, score=0.781 total time=   0.0s\n",
            "[CV 1/5] END .......C=25, gamma=0.1, kernel=rbf;, score=0.818 total time=   0.0s\n",
            "[CV 2/5] END .......C=25, gamma=0.1, kernel=rbf;, score=0.879 total time=   0.0s\n",
            "[CV 3/5] END .......C=25, gamma=0.1, kernel=rbf;, score=0.848 total time=   0.0s\n",
            "[CV 4/5] END .......C=25, gamma=0.1, kernel=rbf;, score=0.719 total time=   0.0s\n",
            "[CV 5/5] END .......C=25, gamma=0.1, kernel=rbf;, score=0.812 total time=   0.0s\n",
            "[CV 1/5] END ......C=25, gamma=0.01, kernel=rbf;, score=0.818 total time=   0.0s\n",
            "[CV 2/5] END ......C=25, gamma=0.01, kernel=rbf;, score=0.818 total time=   0.0s\n",
            "[CV 3/5] END ......C=25, gamma=0.01, kernel=rbf;, score=0.788 total time=   0.0s\n",
            "[CV 4/5] END ......C=25, gamma=0.01, kernel=rbf;, score=0.688 total time=   0.0s\n",
            "[CV 5/5] END ......C=25, gamma=0.01, kernel=rbf;, score=0.719 total time=   0.0s\n",
            "[CV 1/5] END .....C=25, gamma=0.001, kernel=rbf;, score=0.818 total time=   0.0s\n",
            "[CV 2/5] END .....C=25, gamma=0.001, kernel=rbf;, score=0.848 total time=   0.0s\n",
            "[CV 3/5] END .....C=25, gamma=0.001, kernel=rbf;, score=0.727 total time=   0.0s\n",
            "[CV 4/5] END .....C=25, gamma=0.001, kernel=rbf;, score=0.625 total time=   0.0s\n",
            "[CV 5/5] END .....C=25, gamma=0.001, kernel=rbf;, score=0.719 total time=   0.0s\n",
            "[CV 1/5] END ....C=25, gamma=0.0001, kernel=rbf;, score=0.485 total time=   0.0s\n",
            "[CV 2/5] END ....C=25, gamma=0.0001, kernel=rbf;, score=0.758 total time=   0.0s\n",
            "[CV 3/5] END ....C=25, gamma=0.0001, kernel=rbf;, score=0.758 total time=   0.0s\n",
            "[CV 4/5] END ....C=25, gamma=0.0001, kernel=rbf;, score=0.500 total time=   0.0s\n",
            "[CV 5/5] END ....C=25, gamma=0.0001, kernel=rbf;, score=0.500 total time=   0.0s\n"
          ]
        },
        {
          "output_type": "execute_result",
          "data": {
            "text/plain": [
              "GridSearchCV(estimator=SVC(),\n",
              "             param_grid={'C': [0.1, 1, 10, 15, 25],\n",
              "                         'gamma': [1, 0.1, 0.01, 0.001, 0.0001],\n",
              "                         'kernel': ['rbf']},\n",
              "             verbose=3)"
            ]
          },
          "metadata": {},
          "execution_count": 36
        }
      ]
    },
    {
      "cell_type": "code",
      "source": [
        "# print best parameter after tuning\n",
        "print(grid.best_params_)\n",
        "  \n",
        "# print how our model looks after hyper-parameter tuning\n",
        "print(grid.best_estimator_)"
      ],
      "metadata": {
        "colab": {
          "base_uri": "https://localhost:8080/"
        },
        "id": "QsTPNSdU7Udp",
        "outputId": "5b08c5eb-f8a5-4007-d511-383be1e6fb10"
      },
      "execution_count": 37,
      "outputs": [
        {
          "output_type": "stream",
          "name": "stdout",
          "text": [
            "{'C': 15, 'gamma': 0.1, 'kernel': 'rbf'}\n",
            "SVC(C=15, gamma=0.1)\n"
          ]
        }
      ]
    },
    {
      "cell_type": "code",
      "source": [
        "#Create a svm Classifier\n",
        "clf = svm.SVC(C=15,gamma=0.1, kernel='rbf') # Polynomial Kernel\n",
        "\n",
        "#Train the model using the training sets\n",
        "clf.fit(X_train, y_train)\n",
        "\n",
        "#Predict the response for test dataset\n",
        "y_pred_pcagrid = clf.predict(X_test)"
      ],
      "metadata": {
        "id": "xpYsISsv-cq1"
      },
      "execution_count": 38,
      "outputs": []
    },
    {
      "cell_type": "code",
      "source": [
        "print(\"f1 score : \",f1_score(y_test, y_pred_pcagrid, average=\"macro\"))\n",
        "print(\"precision : \",precision_score(y_test, y_pred_pcagrid, average=\"macro\"))\n",
        "print(\"recall : \",recall_score(y_test, y_pred_pcagrid, average=\"macro\"))  \n",
        "print(\"accuracy:\",accuracy_score(y_test, y_pred_pcagrid))"
      ],
      "metadata": {
        "colab": {
          "base_uri": "https://localhost:8080/"
        },
        "id": "FboypfSh-hAb",
        "outputId": "b7dd08f6-8ab8-4b5d-dca9-bdc8b66c0eeb"
      },
      "execution_count": 39,
      "outputs": [
        {
          "output_type": "stream",
          "name": "stdout",
          "text": [
            "f1 score :  0.7291291291291292\n",
            "precision :  0.7365196078431373\n",
            "recall :  0.7297619047619048\n",
            "accuracy: 0.7317073170731707\n"
          ]
        }
      ]
    },
    {
      "cell_type": "code",
      "source": [
        "from sklearn import metrics\n",
        "auc = metrics.roc_auc_score(y_test,y_pred_pcagrid)\n",
        "\n",
        "false_positive_rate, true_positive_rate, thresolds = metrics.roc_curve(y_test, y_pred_pcagrid)\n",
        "\n",
        "plt.figure(figsize=(6, 6), dpi=100)\n",
        "plt.axis('scaled')\n",
        "plt.xlim([0, 1])\n",
        "plt.ylim([0, 1])\n",
        "plt.title(\"AUC & ROC Curve\")\n",
        "plt.plot(false_positive_rate, true_positive_rate,'--' )\n",
        "plt.fill_between(false_positive_rate, true_positive_rate, facecolor='lightblue', alpha=0.7)\n",
        "plt.text(0.95, 0.05, 'AUC = %0.4f' % auc, ha='right', fontsize=12, weight='bold', color='blue')\n",
        "plt.xlabel(\"False Positive Rate\")\n",
        "plt.ylabel(\"True Positive Rate\")\n",
        "plt.show()"
      ],
      "metadata": {
        "colab": {
          "base_uri": "https://localhost:8080/",
          "height": 555
        },
        "id": "zKm-9F3K-k7d",
        "outputId": "43676882-c47c-4388-8ef9-4732682ca703"
      },
      "execution_count": 40,
      "outputs": [
        {
          "output_type": "display_data",
          "data": {
            "text/plain": [
              "<Figure size 600x600 with 1 Axes>"
            ],
            "image/png": "[encoded data removed]"
          },
          "metadata": {
            "needs_background": "light"
          }
        }
      ]
    },
    {
      "cell_type": "markdown",
      "source": [
        "PCA-OPTIMIZATION-SVM"
      ],
      "metadata": {
        "id": "B2oj_3HH-vhS"
      }
    },
    {
      "cell_type": "code",
      "source": [
        "from hyperopt import hp, fmin, tpe, STATUS_OK, Trials\n",
        "from sklearn.model_selection import cross_val_score, StratifiedKFold\n",
        "def objective(params):\n",
        "    params = {\n",
        "        'C': abs(float(params['C'])), \n",
        "        \"kernel\":str(params['kernel'])\n",
        "    }\n",
        "    clf2 = svm.SVC(gamma='scale', **params)\n",
        "    score = cross_val_score(clf, X_10pcs, y, scoring='accuracy', cv=StratifiedKFold(n_splits=3)).mean()\n",
        "\n",
        "    return {'loss':score, 'status': STATUS_OK }\n",
        "\n",
        "space = {\n",
        "    'C': hp.normal('C', 0, 2),\n",
        "    \"kernel\":hp.choice('kernel',['linear','poly','rbf','sigmoid'])\n",
        "}\n",
        "\n",
        "best = fmin(fn=objective,\n",
        "            space=space,\n",
        "            algo=tpe.suggest,\n",
        "            max_evals=20)\n",
        "print(\"SVM: Hyperopt estimated optimum {}\".format(best))"
      ],
      "metadata": {
        "colab": {
          "base_uri": "https://localhost:8080/"
        },
        "id": "2D4kjJdh-ppz",
        "outputId": "84ed89f8-682f-4f15-cbcd-7a1701ed5813"
      },
      "execution_count": 43,
      "outputs": [
        {
          "output_type": "stream",
          "name": "stdout",
          "text": [
            "100%|██████████| 20/20 [00:01<00:00, 15.16it/s, best loss: 0.7549019607843137]\n",
            "SVM: Hyperopt estimated optimum {'C': -1.6212379659411842, 'kernel': 2}\n"
          ]
        }
      ]
    },
    {
      "cell_type": "code",
      "source": [
        "#Create a svm Classifier\n",
        "clf2 = svm.SVC(C=2.127,kernel='sigmoid') # Polynomial Kernel\n",
        "\n",
        "#Train the model using the training sets\n",
        "clf2.fit(X_train, y_train)\n",
        "\n",
        "#Predict the response for test dataset\n",
        "y_pred2 = clf2.predict(X_test)\n",
        "\n",
        "print(\"accuracy:\",accuracy_score(y_test, y_pred2))"
      ],
      "metadata": {
        "colab": {
          "base_uri": "https://localhost:8080/"
        },
        "id": "-nnJdrcWACH6",
        "outputId": "c0f4b498-8f79-40bf-fcd9-ca49b6ca8bb7"
      },
      "execution_count": 44,
      "outputs": [
        {
          "output_type": "stream",
          "name": "stdout",
          "text": [
            "accuracy: 0.6829268292682927\n"
          ]
        }
      ]
    },
    {
      "cell_type": "code",
      "source": [
        "print(\"f1 score : \",f1_score(y_test, y_pred2, average=\"macro\"))\n",
        "print(\"precision : \",precision_score(y_test, y_pred2, average=\"macro\"))\n",
        "print(\"recall : \",recall_score(y_test, y_pred2, average=\"macro\"))  \n",
        "print(\"accuracy:\",accuracy_score(y_test, y_pred2))"
      ],
      "metadata": {
        "colab": {
          "base_uri": "https://localhost:8080/"
        },
        "id": "DKgAHcEpAGRs",
        "outputId": "25246d0a-1e9d-4c4d-8ed5-366e09a1f446"
      },
      "execution_count": 45,
      "outputs": [
        {
          "output_type": "stream",
          "name": "stdout",
          "text": [
            "f1 score :  0.6829268292682926\n",
            "precision :  0.6833333333333333\n",
            "recall :  0.6833333333333333\n",
            "accuracy: 0.6829268292682927\n"
          ]
        }
      ]
    },
    {
      "cell_type": "code",
      "source": [
        "from sklearn import metrics\n",
        "auc = metrics.roc_auc_score(y_test, y_pred2)\n",
        "\n",
        "false_positive_rate, true_positive_rate, thresolds = metrics.roc_curve(y_test, y_pred2)\n",
        "\n",
        "plt.figure(figsize=(6, 6), dpi=100)\n",
        "plt.axis('scaled')\n",
        "plt.xlim([0, 1])\n",
        "plt.ylim([0, 1])\n",
        "plt.title(\"AUC & ROC Curve\")\n",
        "plt.plot(false_positive_rate, true_positive_rate,'--' )\n",
        "plt.fill_between(false_positive_rate, true_positive_rate, facecolor='lightblue', alpha=0.7)\n",
        "plt.text(0.95, 0.05, 'AUC = %0.4f' % auc, ha='right', fontsize=12, weight='bold', color='blue')\n",
        "plt.xlabel(\"False Positive Rate\")\n",
        "plt.ylabel(\"True Positive Rate\")\n",
        "plt.show()"
      ],
      "metadata": {
        "colab": {
          "base_uri": "https://localhost:8080/",
          "height": 555
        },
        "id": "WI-96LDmAK4u",
        "outputId": "ddc1b2d7-2074-4258-fedd-db8f1983f7b6"
      },
      "execution_count": 46,
      "outputs": [
        {
          "output_type": "display_data",
          "data": {
            "text/plain": [
              "<Figure size 600x600 with 1 Axes>"
            ],
            "image/png": "[encoded data removed]"
          },
          "metadata": {
            "needs_background": "light"
          }
        }
      ]
    },
    {
      "cell_type": "code",
      "source": [],
      "metadata": {
        "id": "Foh2S_FwAQej"
      },
      "execution_count": null,
      "outputs": []
    }
  ]
}